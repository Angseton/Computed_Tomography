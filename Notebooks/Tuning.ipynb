{
 "cells": [
  {
   "cell_type": "code",
   "execution_count": 44,
   "metadata": {},
   "outputs": [],
   "source": [
    "import os\n",
    "import sys\n",
    "import subprocess\n",
    "import numpy as np\n",
    "import pandas as pd\n",
    "\n",
    "from itertools import chain, product\n",
    "from random import choice\n",
    "from multiprocessing import Pool\n",
    "\n",
    "import matplotlib.pyplot as plt\n",
    "from scipy.misc import imread, imresize"
   ]
  },
  {
   "cell_type": "markdown",
   "metadata": {},
   "source": [
    "-----------------------"
   ]
  },
  {
   "cell_type": "markdown",
   "metadata": {},
   "source": [
    "### Geometries"
   ]
  },
  {
   "cell_type": "code",
   "execution_count": 13,
   "metadata": {},
   "outputs": [],
   "source": [
    "# Random Geometry\n",
    "def generate_random_rays(sample_size=100, height=20, width=20):\n",
    "    x_bounds = []\n",
    "    rays = []\n",
    "    for _ in range(sample_size):\n",
    "        start_horizontal = choice([True, False])    \n",
    "        start_x = 0 if start_horizontal else choice(range(width))\n",
    "        start_y = choice(range(height)) if start_horizontal else 0\n",
    "        end_horizontal = choice([True, False])    \n",
    "        end_x = width if end_horizontal else choice(range(width))\n",
    "        end_y = choice(range(height)) if end_horizontal else height\n",
    "        rays.append(((start_x, start_y), (end_x, end_y)))\n",
    "    return rays"
   ]
  },
  {
   "cell_type": "code",
   "execution_count": 14,
   "metadata": {},
   "outputs": [],
   "source": [
    "# Horizontal Geometry\n",
    "def end_coor(y_s, alpha, rows, cols):\n",
    "    x_end = 256\n",
    "    if 0 <= alpha <= np.pi / 2:\n",
    "        y_end = y_s + np.tan(alpha) * cols\n",
    "    else:\n",
    "        y_end = y_s - np.tan(abs(alpha)) * cols\n",
    "    \n",
    "    if y_end > rows:\n",
    "        y_end = rows\n",
    "        x_end = min(abs(y_end - y_s) / np.tan(alpha), rows)\n",
    "    if y_end < 0:\n",
    "        y_end = 0\n",
    "        x_end = min(abs(y_end - y_s) / np.tan(abs(alpha)), rows)\n",
    "    return x_end, y_end\n",
    "\n",
    "def generate_rays_horizontal(im, h_resolution=20, a_resolution=10, alpha_min=-np.pi/2 , alpha_max=0):\n",
    "    rays = []\n",
    "    rows, cols = im.shape\n",
    "    start_x = 0\n",
    "    for start_y in np.linspace(0, rows, h_resolution):\n",
    "        for angle in np.linspace(alpha_min, alpha_max, a_resolution):\n",
    "            end_x, end_y = end_coor(start_y, angle, rows, cols)\n",
    "            rays.append(((start_x, start_y), (end_x, end_y)))\n",
    "    return rays"
   ]
  },
  {
   "cell_type": "code",
   "execution_count": 15,
   "metadata": {},
   "outputs": [],
   "source": [
    "# Horizontal + vertival geometry\n",
    "def end_coor_h(y_s, alpha, rows, cols):\n",
    "    x_end = cols\n",
    "    if 0 <= alpha <= np.pi / 2:\n",
    "        y_end = y_s + np.tan(alpha) * cols\n",
    "    else:\n",
    "        y_end = y_s - np.tan(abs(alpha)) * cols\n",
    "    \n",
    "    if y_end > rows:\n",
    "        y_end = rows\n",
    "        x_end = min(abs(y_end - y_s) / np.tan(alpha), rows)\n",
    "    if y_end < 0:\n",
    "        y_end = 0\n",
    "        x_end = min(abs(y_end - y_s) / np.tan(abs(alpha)), rows)\n",
    "    return x_end, y_end\n",
    "\n",
    "def end_coor_v(x_s, alpha, rows, cols):\n",
    "    y_end = rows\n",
    "    if 0 <= alpha <= np.pi / 2:\n",
    "        x_end = x_s + np.tan(alpha) * rows\n",
    "    else:\n",
    "        x_end = x_s - np.tan(abs(alpha)) * rows\n",
    "    \n",
    "    if x_end > cols:\n",
    "        x_end = cols\n",
    "        y_end = min(abs(x_end - x_s) / np.tan(alpha), cols)\n",
    "    if x_end < 0:\n",
    "        x_end = 0\n",
    "        y_end = min(abs(x_end - x_s) / np.tan(abs(alpha)), cols)\n",
    "    return x_end, y_end\n",
    "\n",
    "def generate_rays_hv(im, h_resolution=10, a_resolution=10, alpha_min=-np.pi/2 , alpha_max=0):\n",
    "    rays = []\n",
    "    rows, cols = im.shape\n",
    "    start_x = 0\n",
    "    for start_y in np.linspace(0, rows, h_resolution):\n",
    "        for angle in np.linspace(alpha_min, alpha_max, a_resolution):\n",
    "            end_x, end_y = end_coor_h(start_y, angle, rows, cols)\n",
    "            rays.append(((start_x, start_y), (end_x, end_y)))\n",
    "    \n",
    "    start_y = 0\n",
    "    for start_x in np.linspace(0, cols, h_resolution):\n",
    "        for angle in np.linspace(alpha_min, alpha_max, a_resolution):\n",
    "            end_x, end_y = end_coor_v(start_x, angle, rows, cols)\n",
    "            rays.append(((start_x, start_y), (end_x, end_y)))        \n",
    "    \n",
    "    return rays"
   ]
  },
  {
   "cell_type": "markdown",
   "metadata": {},
   "source": [
    "----------------------------------"
   ]
  },
  {
   "cell_type": "markdown",
   "metadata": {},
   "source": [
    "### Recontruction"
   ]
  },
  {
   "cell_type": "code",
   "execution_count": 72,
   "metadata": {},
   "outputs": [],
   "source": [
    "PARAMS_TO_FLAGS = {\n",
    "    'input_file': '-i',\n",
    "    'output_file': '-o',\n",
    "    'rays': '-rays',\n",
    "    'd_w': '-d_w',\n",
    "    'd_h': '-d_h'\n",
    "}\n",
    "\n",
    "def output_to_dict(output):\n",
    "    # Parsear la salida a un diccionario\n",
    "    lines = output.decode().split('\\n')\n",
    "    d = dict(tuple(l.split(': ')) for l in lines if ': ' in l)\n",
    "    return d\n",
    "\n",
    "def run(exc_path, params):\n",
    "    args = tuple(chain(*((PARAMS_TO_FLAGS[p], str(v)) for p, v in params.items())))\n",
    "    args = [exc_path, *args]\n",
    "    output = subprocess.check_output(args)\n",
    "    return output_to_dict(output)\n",
    "\n",
    "\n",
    "def run_grid_in_parallel(run_func, grid, n_proc=4):\n",
    "    \"\"\"Run a grid on n_proc workers\"\"\"\n",
    "    done, results = 0, []\n",
    "    \n",
    "    def call_back(out):\n",
    "        nonlocal done\n",
    "        nonlocal results\n",
    "        results.append(out)\n",
    "        done += 1\n",
    "        print('\\r', f'Point {done}/{len(grid)} done', end='         ')\n",
    "        sys.stdout.flush()\n",
    "\n",
    "    with Pool(n_proc) as pool:\n",
    "        for point in grid:\n",
    "            kw = point\n",
    "            imfile = kw.pop('imfile')\n",
    "            pool.apply_async(run_func, (imfile, ), kw, callback=call_back)\n",
    "            # call_back(run_func(imfile, **kw))\n",
    "        pool.close()\n",
    "        pool.join()\n",
    "    return pd.DataFrame(results)"
   ]
  },
  {
   "cell_type": "code",
   "execution_count": 53,
   "metadata": {},
   "outputs": [],
   "source": [
    "EXECUTABLE = '../codigo/build/tp3'\n",
    "RAY_GENERATORS = {\n",
    "    'random': generate_random_rays,\n",
    "    'horizontal': generate_rays_horizontal, \n",
    "    'horizontal + vertical': generate_rays_hv\n",
    "}\n",
    "\n",
    "def rays_to_csv(outfname, rays_l):\n",
    "    with open(outfname, 'w') as f:\n",
    "        for ray in rays_l:\n",
    "            f.write('{},{},{},{}\\n'.format(ray[0][0], ray[0][1], \n",
    "                                         ray[1][0], ray[1][1]))\n",
    "\n",
    "def reconstruction(imfile=None, generator_params=None, \n",
    "                   disc_h=25, disc_w=25,\n",
    "                   ray_generator='random', \n",
    "                   outdir='../recursosTP3/results/',\n",
    "                   outname='reconstruction', **kwargs):\n",
    "    im = imread(imfile, 'L')\n",
    "    rows, cols = im.shape\n",
    "    rays = RAY_GENERATORS[ray_generator](im, **generator_params)\n",
    "    rays_to_csv(outdir + '/' + outname + '_rays.csv', rays)\n",
    "    params = {\n",
    "        'input_file': imfile,\n",
    "        'output_file': outdir + '/' + outname + '.png',\n",
    "        'rays': outdir + '/' + outname + '_rays.csv',\n",
    "        'd_w': str(disc_w),\n",
    "        'd_h': str(disc_h),\n",
    "    }\n",
    "    run(EXECUTABLE, params)\n",
    "    params['rays_generated'] = len(rays)\n",
    "    params['generator'] = ray_generator\n",
    "    params['generator_params'] = generator_params\n",
    "    return params"
   ]
  },
  {
   "cell_type": "code",
   "execution_count": 54,
   "metadata": {},
   "outputs": [
    {
     "name": "stderr",
     "output_type": "stream",
     "text": [
      "/Users/juanmanuelbalodonado/.pyenv/versions/3.6.5/lib/python3.6/site-packages/ipykernel_launcher.py:19: DeprecationWarning: `imread` is deprecated!\n",
      "`imread` is deprecated in SciPy 1.0.0, and will be removed in 1.2.0.\n",
      "Use ``imageio.imread`` instead.\n"
     ]
    },
    {
     "ename": "KeyboardInterrupt",
     "evalue": "",
     "output_type": "error",
     "traceback": [
      "\u001b[0;31m---------------------------------------------------------------------------\u001b[0m",
      "\u001b[0;31mKeyboardInterrupt\u001b[0m                         Traceback (most recent call last)",
      "\u001b[0;32m<ipython-input-54-db3444851d54>\u001b[0m in \u001b[0;36m<module>\u001b[0;34m()\u001b[0m\n\u001b[1;32m     11\u001b[0m res = reconstruction(i_file, ray_generator_params,\n\u001b[1;32m     12\u001b[0m                \u001b[0mray_generator\u001b[0m\u001b[0;34m=\u001b[0m\u001b[0;34m'horizontal'\u001b[0m\u001b[0;34m,\u001b[0m\u001b[0;34m\u001b[0m\u001b[0m\n\u001b[0;32m---> 13\u001b[0;31m                outdir=o_dir, outname=o_name)\n\u001b[0m",
      "\u001b[0;32m<ipython-input-53-ca95cb124398>\u001b[0m in \u001b[0;36mreconstruction\u001b[0;34m(imfile, generator_params, disc_h, disc_w, ray_generator, outdir, outname, **kwargs)\u001b[0m\n\u001b[1;32m     28\u001b[0m         \u001b[0;34m'd_h'\u001b[0m\u001b[0;34m:\u001b[0m \u001b[0mstr\u001b[0m\u001b[0;34m(\u001b[0m\u001b[0mdisc_h\u001b[0m\u001b[0;34m)\u001b[0m\u001b[0;34m,\u001b[0m\u001b[0;34m\u001b[0m\u001b[0m\n\u001b[1;32m     29\u001b[0m     }\n\u001b[0;32m---> 30\u001b[0;31m     \u001b[0mrun\u001b[0m\u001b[0;34m(\u001b[0m\u001b[0mEXECUTABLE\u001b[0m\u001b[0;34m,\u001b[0m \u001b[0mparams\u001b[0m\u001b[0;34m)\u001b[0m\u001b[0;34m\u001b[0m\u001b[0m\n\u001b[0m\u001b[1;32m     31\u001b[0m     \u001b[0mparams\u001b[0m\u001b[0;34m[\u001b[0m\u001b[0;34m'rays_generated'\u001b[0m\u001b[0;34m]\u001b[0m \u001b[0;34m=\u001b[0m \u001b[0mlen\u001b[0m\u001b[0;34m(\u001b[0m\u001b[0mrays\u001b[0m\u001b[0;34m)\u001b[0m\u001b[0;34m\u001b[0m\u001b[0m\n\u001b[1;32m     32\u001b[0m     \u001b[0mparams\u001b[0m\u001b[0;34m[\u001b[0m\u001b[0;34m'generator'\u001b[0m\u001b[0;34m]\u001b[0m \u001b[0;34m=\u001b[0m \u001b[0mray_generator\u001b[0m\u001b[0;34m\u001b[0m\u001b[0m\n",
      "\u001b[0;32m<ipython-input-52-2a1358868640>\u001b[0m in \u001b[0;36mrun\u001b[0;34m(exc_path, params)\u001b[0m\n\u001b[1;32m     16\u001b[0m     \u001b[0margs\u001b[0m \u001b[0;34m=\u001b[0m \u001b[0mtuple\u001b[0m\u001b[0;34m(\u001b[0m\u001b[0mchain\u001b[0m\u001b[0;34m(\u001b[0m\u001b[0;34m*\u001b[0m\u001b[0;34m(\u001b[0m\u001b[0;34m(\u001b[0m\u001b[0mPARAMS_TO_FLAGS\u001b[0m\u001b[0;34m[\u001b[0m\u001b[0mp\u001b[0m\u001b[0;34m]\u001b[0m\u001b[0;34m,\u001b[0m \u001b[0mstr\u001b[0m\u001b[0;34m(\u001b[0m\u001b[0mv\u001b[0m\u001b[0;34m)\u001b[0m\u001b[0;34m)\u001b[0m \u001b[0;32mfor\u001b[0m \u001b[0mp\u001b[0m\u001b[0;34m,\u001b[0m \u001b[0mv\u001b[0m \u001b[0;32min\u001b[0m \u001b[0mparams\u001b[0m\u001b[0;34m.\u001b[0m\u001b[0mitems\u001b[0m\u001b[0;34m(\u001b[0m\u001b[0;34m)\u001b[0m\u001b[0;34m)\u001b[0m\u001b[0;34m)\u001b[0m\u001b[0;34m)\u001b[0m\u001b[0;34m\u001b[0m\u001b[0m\n\u001b[1;32m     17\u001b[0m     \u001b[0margs\u001b[0m \u001b[0;34m=\u001b[0m \u001b[0;34m[\u001b[0m\u001b[0mexc_path\u001b[0m\u001b[0;34m,\u001b[0m \u001b[0;34m*\u001b[0m\u001b[0margs\u001b[0m\u001b[0;34m]\u001b[0m\u001b[0;34m\u001b[0m\u001b[0m\n\u001b[0;32m---> 18\u001b[0;31m     \u001b[0moutput\u001b[0m \u001b[0;34m=\u001b[0m \u001b[0msubprocess\u001b[0m\u001b[0;34m.\u001b[0m\u001b[0mcheck_output\u001b[0m\u001b[0;34m(\u001b[0m\u001b[0margs\u001b[0m\u001b[0;34m)\u001b[0m\u001b[0;34m\u001b[0m\u001b[0m\n\u001b[0m\u001b[1;32m     19\u001b[0m     \u001b[0;32mreturn\u001b[0m \u001b[0moutput_to_dict\u001b[0m\u001b[0;34m(\u001b[0m\u001b[0moutput\u001b[0m\u001b[0;34m)\u001b[0m\u001b[0;34m\u001b[0m\u001b[0m\n\u001b[1;32m     20\u001b[0m \u001b[0;34m\u001b[0m\u001b[0m\n",
      "\u001b[0;32m~/.pyenv/versions/3.6.5/lib/python3.6/subprocess.py\u001b[0m in \u001b[0;36mcheck_output\u001b[0;34m(timeout, *popenargs, **kwargs)\u001b[0m\n\u001b[1;32m    334\u001b[0m \u001b[0;34m\u001b[0m\u001b[0m\n\u001b[1;32m    335\u001b[0m     return run(*popenargs, stdout=PIPE, timeout=timeout, check=True,\n\u001b[0;32m--> 336\u001b[0;31m                **kwargs).stdout\n\u001b[0m\u001b[1;32m    337\u001b[0m \u001b[0;34m\u001b[0m\u001b[0m\n\u001b[1;32m    338\u001b[0m \u001b[0;34m\u001b[0m\u001b[0m\n",
      "\u001b[0;32m~/.pyenv/versions/3.6.5/lib/python3.6/subprocess.py\u001b[0m in \u001b[0;36mrun\u001b[0;34m(input, timeout, check, *popenargs, **kwargs)\u001b[0m\n\u001b[1;32m    403\u001b[0m     \u001b[0;32mwith\u001b[0m \u001b[0mPopen\u001b[0m\u001b[0;34m(\u001b[0m\u001b[0;34m*\u001b[0m\u001b[0mpopenargs\u001b[0m\u001b[0;34m,\u001b[0m \u001b[0;34m**\u001b[0m\u001b[0mkwargs\u001b[0m\u001b[0;34m)\u001b[0m \u001b[0;32mas\u001b[0m \u001b[0mprocess\u001b[0m\u001b[0;34m:\u001b[0m\u001b[0;34m\u001b[0m\u001b[0m\n\u001b[1;32m    404\u001b[0m         \u001b[0;32mtry\u001b[0m\u001b[0;34m:\u001b[0m\u001b[0;34m\u001b[0m\u001b[0m\n\u001b[0;32m--> 405\u001b[0;31m             \u001b[0mstdout\u001b[0m\u001b[0;34m,\u001b[0m \u001b[0mstderr\u001b[0m \u001b[0;34m=\u001b[0m \u001b[0mprocess\u001b[0m\u001b[0;34m.\u001b[0m\u001b[0mcommunicate\u001b[0m\u001b[0;34m(\u001b[0m\u001b[0minput\u001b[0m\u001b[0;34m,\u001b[0m \u001b[0mtimeout\u001b[0m\u001b[0;34m=\u001b[0m\u001b[0mtimeout\u001b[0m\u001b[0;34m)\u001b[0m\u001b[0;34m\u001b[0m\u001b[0m\n\u001b[0m\u001b[1;32m    406\u001b[0m         \u001b[0;32mexcept\u001b[0m \u001b[0mTimeoutExpired\u001b[0m\u001b[0;34m:\u001b[0m\u001b[0;34m\u001b[0m\u001b[0m\n\u001b[1;32m    407\u001b[0m             \u001b[0mprocess\u001b[0m\u001b[0;34m.\u001b[0m\u001b[0mkill\u001b[0m\u001b[0;34m(\u001b[0m\u001b[0;34m)\u001b[0m\u001b[0;34m\u001b[0m\u001b[0m\n",
      "\u001b[0;32m~/.pyenv/versions/3.6.5/lib/python3.6/subprocess.py\u001b[0m in \u001b[0;36mcommunicate\u001b[0;34m(self, input, timeout)\u001b[0m\n\u001b[1;32m    828\u001b[0m                 \u001b[0mself\u001b[0m\u001b[0;34m.\u001b[0m\u001b[0m_stdin_write\u001b[0m\u001b[0;34m(\u001b[0m\u001b[0minput\u001b[0m\u001b[0;34m)\u001b[0m\u001b[0;34m\u001b[0m\u001b[0m\n\u001b[1;32m    829\u001b[0m             \u001b[0;32melif\u001b[0m \u001b[0mself\u001b[0m\u001b[0;34m.\u001b[0m\u001b[0mstdout\u001b[0m\u001b[0;34m:\u001b[0m\u001b[0;34m\u001b[0m\u001b[0m\n\u001b[0;32m--> 830\u001b[0;31m                 \u001b[0mstdout\u001b[0m \u001b[0;34m=\u001b[0m \u001b[0mself\u001b[0m\u001b[0;34m.\u001b[0m\u001b[0mstdout\u001b[0m\u001b[0;34m.\u001b[0m\u001b[0mread\u001b[0m\u001b[0;34m(\u001b[0m\u001b[0;34m)\u001b[0m\u001b[0;34m\u001b[0m\u001b[0m\n\u001b[0m\u001b[1;32m    831\u001b[0m                 \u001b[0mself\u001b[0m\u001b[0;34m.\u001b[0m\u001b[0mstdout\u001b[0m\u001b[0;34m.\u001b[0m\u001b[0mclose\u001b[0m\u001b[0;34m(\u001b[0m\u001b[0;34m)\u001b[0m\u001b[0;34m\u001b[0m\u001b[0m\n\u001b[1;32m    832\u001b[0m             \u001b[0;32melif\u001b[0m \u001b[0mself\u001b[0m\u001b[0;34m.\u001b[0m\u001b[0mstderr\u001b[0m\u001b[0;34m:\u001b[0m\u001b[0;34m\u001b[0m\u001b[0m\n",
      "\u001b[0;31mKeyboardInterrupt\u001b[0m: "
     ]
    }
   ],
   "source": [
    "i_file = '../recursosTP3/data/tomo.png'\n",
    "o_dir = '../recursosTP3/results'\n",
    "o_name = 'tomoreconstruction1'\n",
    "ray_generator='horizontal'\n",
    "ray_generator_params = {\n",
    "    'h_resolution': 20,\n",
    "    'a_resolution': 10,\n",
    "    'alpha_min': -np.pi/2,\n",
    "    'alpha_max': np.pi/2,\n",
    "}\n",
    "res = reconstruction(i_file, ray_generator_params,\n",
    "               ray_generator='horizontal', \n",
    "               outdir=o_dir, outname=o_name)"
   ]
  },
  {
   "cell_type": "code",
   "execution_count": 26,
   "metadata": {},
   "outputs": [
    {
     "data": {
      "text/plain": [
       "{'input_file': '../recursosTP3/data/tomo.png',\n",
       " 'output_file': '../recursosTP3/results/tomoreconstruction1.png',\n",
       " 'rays': '../recursosTP3/results/tomoreconstruction1_rays.csv',\n",
       " 'd_w': '25',\n",
       " 'd_h': '25',\n",
       " 'rays_generated': 200,\n",
       " 'generator': 'horizontal',\n",
       " 'generator_params': {'h_resolution': 20,\n",
       "  'a_resolution': 10,\n",
       "  'alpha_min': -1.5707963267948966,\n",
       "  'alpha_max': 1.5707963267948966}}"
      ]
     },
     "execution_count": 26,
     "metadata": {},
     "output_type": "execute_result"
    }
   ],
   "source": [
    "res"
   ]
  },
  {
   "cell_type": "code",
   "execution_count": 27,
   "metadata": {},
   "outputs": [
    {
     "name": "stderr",
     "output_type": "stream",
     "text": [
      "/Users/juanmanuelbalodonado/.pyenv/versions/3.6.5/lib/python3.6/site-packages/ipykernel_launcher.py:8: DeprecationWarning: `imread` is deprecated!\n",
      "`imread` is deprecated in SciPy 1.0.0, and will be removed in 1.2.0.\n",
      "Use ``imageio.imread`` instead.\n",
      "  \n",
      "/Users/juanmanuelbalodonado/.pyenv/versions/3.6.5/lib/python3.6/site-packages/ipykernel_launcher.py:9: DeprecationWarning: `imread` is deprecated!\n",
      "`imread` is deprecated in SciPy 1.0.0, and will be removed in 1.2.0.\n",
      "Use ``imageio.imread`` instead.\n",
      "  if __name__ == '__main__':\n",
      "/Users/juanmanuelbalodonado/.pyenv/versions/3.6.5/lib/python3.6/site-packages/ipykernel_launcher.py:11: DeprecationWarning: `imresize` is deprecated!\n",
      "`imresize` is deprecated in SciPy 1.0.0, and will be removed in 1.2.0.\n",
      "Use ``skimage.transform.resize`` instead.\n",
      "  # This is added back by InteractiveShellApp.init_path()\n"
     ]
    },
    {
     "name": "stdout",
     "output_type": "stream",
     "text": [
      "PSNR: 64.51221430724135\n"
     ]
    },
    {
     "data": {
      "image/png": "[encoded data removed]",
      "text/plain": [
       "<Figure size 1080x1080 with 2 Axes>"
      ]
     },
     "metadata": {},
     "output_type": "display_data"
    }
   ],
   "source": [
    "def psnr(u_0, u_1):\n",
    "    rows, cols = u_0.shape\n",
    "    N = rows * cols\n",
    "    ecm = (1 / N)  * np.sum(np.power(u_1 - u_0, 2))\n",
    "    return 10 * np.log(u_0.max() ** 2 / ecm)\n",
    "\n",
    "def compute_error(original_imfile, reconstruction_imfile):\n",
    "    original_im = imread(original_imfile, 'L')\n",
    "    r_im = imread(reconstruction_imfile)\n",
    "    r_rows, r_cols = r_im.shape\n",
    "    original_resized = imresize(original_im, (r_rows, r_cols))\n",
    "    error = psnr(r_im, original_resized)\n",
    "    print(f\"PSNR: {error}\")\n",
    "    f, [ax1, ax2] = plt.subplots(1, 2, figsize=(15,15))\n",
    "    ax1.imshow(original_resized)\n",
    "    ax2.imshow(r_im)\n",
    "\n",
    "compute_error(res['input_file'], res['output_file'])"
   ]
  },
  {
   "cell_type": "code",
   "execution_count": null,
   "metadata": {},
   "outputs": [],
   "source": []
  },
  {
   "cell_type": "markdown",
   "metadata": {},
   "source": [
    "Range of values"
   ]
  },
  {
   "cell_type": "code",
   "execution_count": 71,
   "metadata": {},
   "outputs": [
    {
     "name": "stderr",
     "output_type": "stream",
     "text": [
      "/Users/juanmanuelbalodonado/.pyenv/versions/3.6.5/lib/python3.6/site-packages/ipykernel_launcher.py:19: DeprecationWarning: `imread` is deprecated!\n",
      "`imread` is deprecated in SciPy 1.0.0, and will be removed in 1.2.0.\n",
      "Use ``imageio.imread`` instead.\n",
      "/Users/juanmanuelbalodonado/.pyenv/versions/3.6.5/lib/python3.6/site-packages/ipykernel_launcher.py:19: DeprecationWarning: `imread` is deprecated!\n",
      "`imread` is deprecated in SciPy 1.0.0, and will be removed in 1.2.0.\n",
      "Use ``imageio.imread`` instead.\n",
      "/Users/juanmanuelbalodonado/.pyenv/versions/3.6.5/lib/python3.6/site-packages/ipykernel_launcher.py:19: DeprecationWarning: `imread` is deprecated!\n",
      "`imread` is deprecated in SciPy 1.0.0, and will be removed in 1.2.0.\n",
      "Use ``imageio.imread`` instead.\n",
      "/Users/juanmanuelbalodonado/.pyenv/versions/3.6.5/lib/python3.6/site-packages/ipykernel_launcher.py:19: DeprecationWarning: `imread` is deprecated!\n",
      "`imread` is deprecated in SciPy 1.0.0, and will be removed in 1.2.0.\n",
      "Use ``imageio.imread`` instead.\n"
     ]
    },
    {
     "name": "stdout",
     "output_type": "stream",
     "text": [
      "{'imfile': '../recursosTP3/data/tomo.png', 'outdir': '../recursosTP3/results', 'outname': 'tomoreconstruction1_10', 'ray_generator': 'horizontal', 'generator_params': {'h_resolution': 10, 'a_resolution': 20, 'alpha_min': -1.5707963267948966, 'alpha_max': 1.5707963267948966}}\n",
      "{'imfile': '../recursosTP3/data/tomo.png', 'outdir': '../recursosTP3/results', 'outname': 'tomoreconstruction1_20', 'ray_generator': 'horizontal', 'generator_params': {'h_resolution': 20, 'a_resolution': 20, 'alpha_min': -1.5707963267948966, 'alpha_max': 1.5707963267948966}}\n",
      "{'imfile': '../recursosTP3/data/tomo.png', 'outdir': '../recursosTP3/results', 'outname': 'tomoreconstruction1_50', 'ray_generator': 'horizontal', 'generator_params': {'h_resolution': 50, 'a_resolution': 20, 'alpha_min': -1.5707963267948966, 'alpha_max': 1.5707963267948966}}\n",
      "{'imfile': '../recursosTP3/data/tomo.png', 'outdir': '../recursosTP3/results', 'outname': 'tomoreconstruction1_70', 'ray_generator': 'horizontal', 'generator_params': {'h_resolution': 70, 'a_resolution': 20, 'alpha_min': -1.5707963267948966, 'alpha_max': 1.5707963267948966}}\n",
      "{'imfile': '../recursosTP3/data/tomo.png', 'outdir': '../recursosTP3/results', 'outname': 'tomoreconstruction1_100', 'ray_generator': 'horizontal', 'generator_params': {'h_resolution': 100, 'a_resolution': 20, 'alpha_min': -1.5707963267948966, 'alpha_max': 1.5707963267948966}}\n",
      " Point 5/5 done         "
     ]
    }
   ],
   "source": [
    "experiments  = {   \n",
    "    f'h_resolution_at_{i}':{\n",
    "            'imfile': '../recursosTP3/data/tomo.png',\n",
    "            'outdir': '../recursosTP3/results',\n",
    "            'outname': f'tomoreconstruction1_{i}',\n",
    "            'ray_generator': 'horizontal',\n",
    "            'generator_params': {\n",
    "                'h_resolution': i,\n",
    "                'a_resolution': 20,\n",
    "                'alpha_min': -np.pi/2,\n",
    "                'alpha_max': np.pi/2,\n",
    "            }\n",
    "        }\n",
    "    for i in [10, 20, 50, 70, 100]\n",
    "}\n",
    "\n",
    "grid = experiments.values()\n",
    "res = run_grid_in_parallel(reconstruction, grid)"
   ]
  },
  {
   "cell_type": "code",
   "execution_count": 73,
   "metadata": {},
   "outputs": [
    {
     "data": {
      "text/html": [
       "<div>\n",
       "<style scoped>\n",
       "    .dataframe tbody tr th:only-of-type {\n",
       "        vertical-align: middle;\n",
       "    }\n",
       "\n",
       "    .dataframe tbody tr th {\n",
       "        vertical-align: top;\n",
       "    }\n",
       "\n",
       "    .dataframe thead th {\n",
       "        text-align: right;\n",
       "    }\n",
       "</style>\n",
       "<table border=\"1\" class=\"dataframe\">\n",
       "  <thead>\n",
       "    <tr style=\"text-align: right;\">\n",
       "      <th></th>\n",
       "      <th>d_h</th>\n",
       "      <th>d_w</th>\n",
       "      <th>generator</th>\n",
       "      <th>generator_params</th>\n",
       "      <th>input_file</th>\n",
       "      <th>output_file</th>\n",
       "      <th>rays</th>\n",
       "      <th>rays_generated</th>\n",
       "    </tr>\n",
       "  </thead>\n",
       "  <tbody>\n",
       "    <tr>\n",
       "      <th>0</th>\n",
       "      <td>25</td>\n",
       "      <td>25</td>\n",
       "      <td>horizontal</td>\n",
       "      <td>{'h_resolution': 10, 'a_resolution': 20, 'alph...</td>\n",
       "      <td>../recursosTP3/data/tomo.png</td>\n",
       "      <td>../recursosTP3/results/tomoreconstruction1_10.png</td>\n",
       "      <td>../recursosTP3/results/tomoreconstruction1_10_...</td>\n",
       "      <td>200</td>\n",
       "    </tr>\n",
       "    <tr>\n",
       "      <th>1</th>\n",
       "      <td>25</td>\n",
       "      <td>25</td>\n",
       "      <td>horizontal</td>\n",
       "      <td>{'h_resolution': 20, 'a_resolution': 20, 'alph...</td>\n",
       "      <td>../recursosTP3/data/tomo.png</td>\n",
       "      <td>../recursosTP3/results/tomoreconstruction1_20.png</td>\n",
       "      <td>../recursosTP3/results/tomoreconstruction1_20_...</td>\n",
       "      <td>400</td>\n",
       "    </tr>\n",
       "    <tr>\n",
       "      <th>2</th>\n",
       "      <td>25</td>\n",
       "      <td>25</td>\n",
       "      <td>horizontal</td>\n",
       "      <td>{'h_resolution': 50, 'a_resolution': 20, 'alph...</td>\n",
       "      <td>../recursosTP3/data/tomo.png</td>\n",
       "      <td>../recursosTP3/results/tomoreconstruction1_50.png</td>\n",
       "      <td>../recursosTP3/results/tomoreconstruction1_50_...</td>\n",
       "      <td>1000</td>\n",
       "    </tr>\n",
       "    <tr>\n",
       "      <th>3</th>\n",
       "      <td>25</td>\n",
       "      <td>25</td>\n",
       "      <td>horizontal</td>\n",
       "      <td>{'h_resolution': 70, 'a_resolution': 20, 'alph...</td>\n",
       "      <td>../recursosTP3/data/tomo.png</td>\n",
       "      <td>../recursosTP3/results/tomoreconstruction1_70.png</td>\n",
       "      <td>../recursosTP3/results/tomoreconstruction1_70_...</td>\n",
       "      <td>1400</td>\n",
       "    </tr>\n",
       "    <tr>\n",
       "      <th>4</th>\n",
       "      <td>25</td>\n",
       "      <td>25</td>\n",
       "      <td>horizontal</td>\n",
       "      <td>{'h_resolution': 100, 'a_resolution': 20, 'alp...</td>\n",
       "      <td>../recursosTP3/data/tomo.png</td>\n",
       "      <td>../recursosTP3/results/tomoreconstruction1_100...</td>\n",
       "      <td>../recursosTP3/results/tomoreconstruction1_100...</td>\n",
       "      <td>2000</td>\n",
       "    </tr>\n",
       "  </tbody>\n",
       "</table>\n",
       "</div>"
      ],
      "text/plain": [
       "  d_h d_w   generator                                   generator_params  \\\n",
       "0  25  25  horizontal  {'h_resolution': 10, 'a_resolution': 20, 'alph...   \n",
       "1  25  25  horizontal  {'h_resolution': 20, 'a_resolution': 20, 'alph...   \n",
       "2  25  25  horizontal  {'h_resolution': 50, 'a_resolution': 20, 'alph...   \n",
       "3  25  25  horizontal  {'h_resolution': 70, 'a_resolution': 20, 'alph...   \n",
       "4  25  25  horizontal  {'h_resolution': 100, 'a_resolution': 20, 'alp...   \n",
       "\n",
       "                     input_file  \\\n",
       "0  ../recursosTP3/data/tomo.png   \n",
       "1  ../recursosTP3/data/tomo.png   \n",
       "2  ../recursosTP3/data/tomo.png   \n",
       "3  ../recursosTP3/data/tomo.png   \n",
       "4  ../recursosTP3/data/tomo.png   \n",
       "\n",
       "                                         output_file  \\\n",
       "0  ../recursosTP3/results/tomoreconstruction1_10.png   \n",
       "1  ../recursosTP3/results/tomoreconstruction1_20.png   \n",
       "2  ../recursosTP3/results/tomoreconstruction1_50.png   \n",
       "3  ../recursosTP3/results/tomoreconstruction1_70.png   \n",
       "4  ../recursosTP3/results/tomoreconstruction1_100...   \n",
       "\n",
       "                                                rays  rays_generated  \n",
       "0  ../recursosTP3/results/tomoreconstruction1_10_...             200  \n",
       "1  ../recursosTP3/results/tomoreconstruction1_20_...             400  \n",
       "2  ../recursosTP3/results/tomoreconstruction1_50_...            1000  \n",
       "3  ../recursosTP3/results/tomoreconstruction1_70_...            1400  \n",
       "4  ../recursosTP3/results/tomoreconstruction1_100...            2000  "
      ]
     },
     "execution_count": 73,
     "metadata": {},
     "output_type": "execute_result"
    }
   ],
   "source": [
    "res"
   ]
  },
  {
   "cell_type": "code",
   "execution_count": 75,
   "metadata": {},
   "outputs": [
    {
     "data": {
      "text/plain": [
       "'../recursosTP3/results/tomoreconstruction1_10.png'"
      ]
     },
     "execution_count": 75,
     "metadata": {},
     "output_type": "execute_result"
    }
   ],
   "source": [
    "f, axarr = plt.subplots(1, 2, figsize=(15,15))\n",
    "axarr[0, 0].imshow(original_resized)\n",
    "axarr[0, 1].imshow(res['output_file'].iloc[0])\n",
    "axarr[0, 2].imshow(res['output_file'].iloc[0])\n",
    "\n",
    "axarr[1, 0].imshow(res['output_file'].iloc[0])\n",
    "axarr[1, 0].imshow(res['output_file'].iloc[0])\n"
   ]
  },
  {
   "cell_type": "code",
   "execution_count": null,
   "metadata": {},
   "outputs": [],
   "source": []
  }
 ],
 "metadata": {
  "kernelspec": {
   "display_name": "Python 3",
   "language": "python",
   "name": "python3"
  },
  "language_info": {
   "codemirror_mode": {
    "name": "ipython",
    "version": 3
   },
   "file_extension": ".py",
   "mimetype": "text/x-python",
   "name": "python",
   "nbconvert_exporter": "python",
   "pygments_lexer": "ipython3",
   "version": "3.6.5"
  }
 },
 "nbformat": 4,
 "nbformat_minor": 2
}
