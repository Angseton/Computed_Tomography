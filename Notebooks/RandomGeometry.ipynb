{
 "cells": [
  {
   "cell_type": "code",
   "execution_count": 19,
   "metadata": {},
   "outputs": [],
   "source": [
    "import os\n",
    "import sys\n",
    "import subprocess\n",
    "import numpy as np\n",
    "import pandas as pd\n",
    "import math\n",
    "\n",
    "from itertools import chain, product\n",
    "from random import choice\n",
    "from multiprocessing import Pool\n",
    "\n",
    "import matplotlib.pyplot as plt\n",
    "from scipy.misc import imread, imresize"
   ]
  },
  {
   "cell_type": "code",
   "execution_count": 20,
   "metadata": {},
   "outputs": [],
   "source": [
    "# Random Geometry\n",
    "def generate_random_rays(im, sample_size=100):\n",
    "    rays = []\n",
    "    height, width = im.shape\n",
    "    for _ in range(sample_size):\n",
    "        start_horizontal = choice([True, False])    \n",
    "        start_x = 0 if start_horizontal else choice(range(width))\n",
    "        start_y = choice(range(height)) if start_horizontal else 0\n",
    "        end_horizontal = choice([True, False])    \n",
    "        end_x = width if end_horizontal else choice(range(width))\n",
    "        end_y = choice(range(height)) if end_horizontal else height\n",
    "        rays.append(((start_x, start_y), (end_x, end_y)))\n",
    "    return rays"
   ]
  },
  {
   "cell_type": "code",
   "execution_count": 21,
   "metadata": {},
   "outputs": [],
   "source": [
    "PARAMS_TO_FLAGS = {\n",
    "    'input_file': '-i',\n",
    "    'output_file': '-o',\n",
    "    'rays': '-rays',\n",
    "    'd_w': '-d_w',\n",
    "    'd_h': '-d_h',\n",
    "    'max_comp': '-max_comp'\n",
    "}\n",
    "\n",
    "def output_to_dict(output):\n",
    "    # Parsear la salida a un diccionario\n",
    "    lines = output.decode().split('\\n')\n",
    "    d = dict(tuple(l.split(': ')) for l in lines if ': ' in l)\n",
    "    return d\n",
    "\n",
    "def run(exc_path, params):\n",
    "    args = tuple(chain(*((PARAMS_TO_FLAGS[p], str(v)) for p, v in params.items())))\n",
    "    args = [exc_path, *args]\n",
    "    output = subprocess.check_output(args)\n",
    "    return output_to_dict(output)\n",
    "\n",
    "\n",
    "def run_grid_in_parallel(run_func, grid, n_proc=2):\n",
    "    \"\"\"Run a grid on n_proc workers\"\"\"\n",
    "    done, results = 0, []\n",
    "    \n",
    "    def call_back(out):\n",
    "        nonlocal done\n",
    "        nonlocal results\n",
    "        results.append(out)\n",
    "        done += 1\n",
    "        print('\\r', f'Point {done}/{len(grid)} done', end='         ')\n",
    "        sys.stdout.flush()\n",
    "\n",
    "    with Pool(n_proc) as pool:\n",
    "        for point in grid:\n",
    "            kw = point\n",
    "            imfile = kw.pop('imfile')\n",
    "            pool.apply_async(run_func, (imfile, ), kw, callback=call_back)\n",
    "        pool.close()\n",
    "        pool.join()\n",
    "    return pd.DataFrame(results)"
   ]
  },
  {
   "cell_type": "code",
   "execution_count": 22,
   "metadata": {},
   "outputs": [],
   "source": [
    "EXECUTABLE = '../codigo/build/tp3'\n",
    "RAY_GENERATORS = {\n",
    "    'random': generate_random_rays,\n",
    "    #'horizontal': generate_rays_horizontal, \n",
    "    #'horizontal + vertical': generate_rays_hv\n",
    "}\n",
    "\n",
    "def rays_to_csv(outfname, rays_l):\n",
    "    with open(outfname, 'w') as f:\n",
    "        for ray in rays_l:\n",
    "            f.write('{},{},{},{}\\n'.format(ray[0][0], ray[0][1], \n",
    "                                         ray[1][0], ray[1][1]))\n",
    "\n",
    "def reconstruction(imfile=None,\n",
    "                   generator_params=None, \n",
    "                   disc_h=25, disc_w=25,\n",
    "                   ray_generator='random', \n",
    "                   outdir='../recursosTP3/results/',\n",
    "                   outname='reconstruction',\n",
    "                   run_params=None,\n",
    "                   **kwargs):\n",
    "    im = imread(imfile, 'L')\n",
    "    rows, cols = im.shape\n",
    "    rays = RAY_GENERATORS[ray_generator](im, **generator_params)\n",
    "    rays_to_csv(outdir + '/' + outname + '_rays.csv', rays)\n",
    "    params = {\n",
    "        'input_file': imfile,\n",
    "        'output_file': outdir + '/' + outname + '.png',\n",
    "        'rays': outdir + '/' + outname + '_rays.csv',\n",
    "        'd_w': str(disc_w),\n",
    "        'd_h': str(disc_h),\n",
    "        \n",
    "    }\n",
    "    if run_params:\n",
    "        params.update(run_params)\n",
    "    res = run(EXECUTABLE, params)\n",
    "    params['rays_generated'] = len(rays)\n",
    "    params['generator'] = ray_generator\n",
    "    params['generator_params'] = generator_params\n",
    "    params['output'] = res\n",
    "    return params"
   ]
  },
  {
   "cell_type": "code",
   "execution_count": 36,
   "metadata": {},
   "outputs": [
    {
     "name": "stderr",
     "output_type": "stream",
     "text": [
      "/Users/Angseton/anaconda3/lib/python3.6/site-packages/ipykernel_launcher.py:22: DeprecationWarning: `imread` is deprecated!\n",
      "`imread` is deprecated in SciPy 1.0.0, and will be removed in 1.2.0.\n",
      "Use ``imageio.imread`` instead.\n"
     ]
    }
   ],
   "source": [
    "i_file = '../recursosTP3/data/tomo.png'\n",
    "o_dir = '../recursosTP3/results'\n",
    "o_name = 'tomoreconstructionGasti'\n",
    "ray_generator='random'\n",
    "ray_generator_params = {\n",
    "    'sample_size' : 1000\n",
    "}\n",
    "res = reconstruction(i_file, ray_generator_params,\n",
    "               ray_generator='random', \n",
    "               outdir=o_dir, outname=o_name)"
   ]
  },
  {
   "cell_type": "code",
   "execution_count": 37,
   "metadata": {},
   "outputs": [
    {
     "name": "stderr",
     "output_type": "stream",
     "text": [
      "/Users/Angseton/anaconda3/lib/python3.6/site-packages/ipykernel_launcher.py:13: DeprecationWarning: `imread` is deprecated!\n",
      "`imread` is deprecated in SciPy 1.0.0, and will be removed in 1.2.0.\n",
      "Use ``imageio.imread`` instead.\n",
      "  del sys.path[0]\n",
      "/Users/Angseton/anaconda3/lib/python3.6/site-packages/ipykernel_launcher.py:14: DeprecationWarning: `imread` is deprecated!\n",
      "`imread` is deprecated in SciPy 1.0.0, and will be removed in 1.2.0.\n",
      "Use ``imageio.imread`` instead.\n",
      "  \n",
      "/Users/Angseton/anaconda3/lib/python3.6/site-packages/ipykernel_launcher.py:16: DeprecationWarning: `imresize` is deprecated!\n",
      "`imresize` is deprecated in SciPy 1.0.0, and will be removed in 1.2.0.\n",
      "Use ``skimage.transform.resize`` instead.\n",
      "  app.launch_new_instance()\n"
     ]
    },
    {
     "name": "stdout",
     "output_type": "stream",
     "text": [
      "PSNR: 28.097301397780225\n",
      "MSE: 100.7744\n"
     ]
    },
    {
     "data": {
      "image/png": "[encoded data removed]",
      "text/plain": [
       "<Figure size 1080x1080 with 2 Axes>"
      ]
     },
     "metadata": {},
     "output_type": "display_data"
    }
   ],
   "source": [
    "def psnr(img1, img2):\n",
    "    mse = np.mean( (img1 - img2) ** 2 )\n",
    "    if mse == 0:\n",
    "        return 100\n",
    "    PIXEL_MAX = 255.0\n",
    "    return 20 * math.log10(PIXEL_MAX / math.sqrt(mse))\n",
    "\n",
    "def mse(img1, img2):\n",
    "    return np.mean( (img1 - img2) ** 2 )\n",
    "\n",
    "\n",
    "def compute_error(original_imfile, reconstruction_imfile):\n",
    "    original_im = imread(original_imfile, 'L')\n",
    "    r_im = imread(reconstruction_imfile)\n",
    "    r_rows, r_cols = r_im.shape\n",
    "    original_resized = imresize(original_im, (r_rows, r_cols))\n",
    "    print(f\"PSNR: {psnr(r_im, original_resized)}\")\n",
    "    print(f\"MSE: {mse(r_im, original_resized)}\")\n",
    "    f, [ax1, ax2] = plt.subplots(1, 2, figsize=(15,15))\n",
    "    ax1.imshow(original_resized, cmap='gray')\n",
    "    ax2.imshow(r_im, cmap='gray')\n",
    "    \n",
    "compute_error(res['input_file'], res['output_file'])"
   ]
  },
  {
   "cell_type": "code",
   "execution_count": 41,
   "metadata": {},
   "outputs": [
    {
     "name": "stderr",
     "output_type": "stream",
     "text": [
      "/Users/Angseton/anaconda3/lib/python3.6/site-packages/ipykernel_launcher.py:22: DeprecationWarning: `imread` is deprecated!\n",
      "`imread` is deprecated in SciPy 1.0.0, and will be removed in 1.2.0.\n",
      "Use ``imageio.imread`` instead.\n",
      "/Users/Angseton/anaconda3/lib/python3.6/site-packages/ipykernel_launcher.py:22: DeprecationWarning: `imread` is deprecated!\n",
      "`imread` is deprecated in SciPy 1.0.0, and will be removed in 1.2.0.\n",
      "Use ``imageio.imread`` instead.\n",
      "/Users/Angseton/anaconda3/lib/python3.6/site-packages/ipykernel_launcher.py:22: DeprecationWarning: `imread` is deprecated!\n",
      "`imread` is deprecated in SciPy 1.0.0, and will be removed in 1.2.0.\n",
      "Use ``imageio.imread`` instead.\n",
      "/Users/Angseton/anaconda3/lib/python3.6/site-packages/ipykernel_launcher.py:22: DeprecationWarning: `imread` is deprecated!\n",
      "`imread` is deprecated in SciPy 1.0.0, and will be removed in 1.2.0.\n",
      "Use ``imageio.imread`` instead.\n"
     ]
    },
    {
     "name": "stdout",
     "output_type": "stream",
     "text": [
      " Point 8/8 done         "
     ]
    }
   ],
   "source": [
    "from itertools import product\n",
    "experiments  = {   \n",
    "    f'h_resolution_at_{i}':{\n",
    "            'imfile': '../recursosTP3/data/tomo.png',\n",
    "            'outdir': '../recursosTP3/results',\n",
    "            'outname': f'tomoreconstruction_{i}',\n",
    "            'ray_generator': 'random',\n",
    "            'generator_params': {\n",
    "                'sample_size' : i\n",
    "            }\n",
    "        }\n",
    "    for i in [100, 200, 500, 1000, 5000, 10000, 25000, 50000]\n",
    "}\n",
    "\n",
    "grid = experiments.values()\n",
    "res = run_grid_in_parallel(reconstruction, grid)"
   ]
  },
  {
   "cell_type": "code",
   "execution_count": 42,
   "metadata": {},
   "outputs": [
    {
     "data": {
      "text/html": [
       "<div>\n",
       "<style scoped>\n",
       "    .dataframe tbody tr th:only-of-type {\n",
       "        vertical-align: middle;\n",
       "    }\n",
       "\n",
       "    .dataframe tbody tr th {\n",
       "        vertical-align: top;\n",
       "    }\n",
       "\n",
       "    .dataframe thead th {\n",
       "        text-align: right;\n",
       "    }\n",
       "</style>\n",
       "<table border=\"1\" class=\"dataframe\">\n",
       "  <thead>\n",
       "    <tr style=\"text-align: right;\">\n",
       "      <th></th>\n",
       "      <th>d_h</th>\n",
       "      <th>d_w</th>\n",
       "      <th>generator</th>\n",
       "      <th>generator_params</th>\n",
       "      <th>input_file</th>\n",
       "      <th>output</th>\n",
       "      <th>output_file</th>\n",
       "      <th>rays</th>\n",
       "      <th>rays_generated</th>\n",
       "    </tr>\n",
       "  </thead>\n",
       "  <tbody>\n",
       "    <tr>\n",
       "      <th>0</th>\n",
       "      <td>25</td>\n",
       "      <td>25</td>\n",
       "      <td>random</td>\n",
       "      <td>{'sample_size': 100}</td>\n",
       "      <td>../recursosTP3/data/tomo.png</td>\n",
       "      <td>{'Input File': '../recursosTP3/data/tomo.png',...</td>\n",
       "      <td>../recursosTP3/results/tomoreconstruction_100.png</td>\n",
       "      <td>../recursosTP3/results/tomoreconstruction_100_...</td>\n",
       "      <td>100</td>\n",
       "    </tr>\n",
       "    <tr>\n",
       "      <th>1</th>\n",
       "      <td>25</td>\n",
       "      <td>25</td>\n",
       "      <td>random</td>\n",
       "      <td>{'sample_size': 200}</td>\n",
       "      <td>../recursosTP3/data/tomo.png</td>\n",
       "      <td>{'Input File': '../recursosTP3/data/tomo.png',...</td>\n",
       "      <td>../recursosTP3/results/tomoreconstruction_200.png</td>\n",
       "      <td>../recursosTP3/results/tomoreconstruction_200_...</td>\n",
       "      <td>200</td>\n",
       "    </tr>\n",
       "    <tr>\n",
       "      <th>2</th>\n",
       "      <td>25</td>\n",
       "      <td>25</td>\n",
       "      <td>random</td>\n",
       "      <td>{'sample_size': 500}</td>\n",
       "      <td>../recursosTP3/data/tomo.png</td>\n",
       "      <td>{'Input File': '../recursosTP3/data/tomo.png',...</td>\n",
       "      <td>../recursosTP3/results/tomoreconstruction_500.png</td>\n",
       "      <td>../recursosTP3/results/tomoreconstruction_500_...</td>\n",
       "      <td>500</td>\n",
       "    </tr>\n",
       "    <tr>\n",
       "      <th>3</th>\n",
       "      <td>25</td>\n",
       "      <td>25</td>\n",
       "      <td>random</td>\n",
       "      <td>{'sample_size': 1000}</td>\n",
       "      <td>../recursosTP3/data/tomo.png</td>\n",
       "      <td>{'Input File': '../recursosTP3/data/tomo.png',...</td>\n",
       "      <td>../recursosTP3/results/tomoreconstruction_1000...</td>\n",
       "      <td>../recursosTP3/results/tomoreconstruction_1000...</td>\n",
       "      <td>1000</td>\n",
       "    </tr>\n",
       "    <tr>\n",
       "      <th>4</th>\n",
       "      <td>25</td>\n",
       "      <td>25</td>\n",
       "      <td>random</td>\n",
       "      <td>{'sample_size': 5000}</td>\n",
       "      <td>../recursosTP3/data/tomo.png</td>\n",
       "      <td>{'Input File': '../recursosTP3/data/tomo.png',...</td>\n",
       "      <td>../recursosTP3/results/tomoreconstruction_5000...</td>\n",
       "      <td>../recursosTP3/results/tomoreconstruction_5000...</td>\n",
       "      <td>5000</td>\n",
       "    </tr>\n",
       "  </tbody>\n",
       "</table>\n",
       "</div>"
      ],
      "text/plain": [
       "  d_h d_w generator       generator_params                    input_file  \\\n",
       "0  25  25    random   {'sample_size': 100}  ../recursosTP3/data/tomo.png   \n",
       "1  25  25    random   {'sample_size': 200}  ../recursosTP3/data/tomo.png   \n",
       "2  25  25    random   {'sample_size': 500}  ../recursosTP3/data/tomo.png   \n",
       "3  25  25    random  {'sample_size': 1000}  ../recursosTP3/data/tomo.png   \n",
       "4  25  25    random  {'sample_size': 5000}  ../recursosTP3/data/tomo.png   \n",
       "\n",
       "                                              output  \\\n",
       "0  {'Input File': '../recursosTP3/data/tomo.png',...   \n",
       "1  {'Input File': '../recursosTP3/data/tomo.png',...   \n",
       "2  {'Input File': '../recursosTP3/data/tomo.png',...   \n",
       "3  {'Input File': '../recursosTP3/data/tomo.png',...   \n",
       "4  {'Input File': '../recursosTP3/data/tomo.png',...   \n",
       "\n",
       "                                         output_file  \\\n",
       "0  ../recursosTP3/results/tomoreconstruction_100.png   \n",
       "1  ../recursosTP3/results/tomoreconstruction_200.png   \n",
       "2  ../recursosTP3/results/tomoreconstruction_500.png   \n",
       "3  ../recursosTP3/results/tomoreconstruction_1000...   \n",
       "4  ../recursosTP3/results/tomoreconstruction_5000...   \n",
       "\n",
       "                                                rays  rays_generated  \n",
       "0  ../recursosTP3/results/tomoreconstruction_100_...             100  \n",
       "1  ../recursosTP3/results/tomoreconstruction_200_...             200  \n",
       "2  ../recursosTP3/results/tomoreconstruction_500_...             500  \n",
       "3  ../recursosTP3/results/tomoreconstruction_1000...            1000  \n",
       "4  ../recursosTP3/results/tomoreconstruction_5000...            5000  "
      ]
     },
     "execution_count": 42,
     "metadata": {},
     "output_type": "execute_result"
    }
   ],
   "source": [
    "res.head()"
   ]
  },
  {
   "cell_type": "code",
   "execution_count": 69,
   "metadata": {},
   "outputs": [],
   "source": [
    "def psnr(u_0, u_1):\n",
    "    rows, cols = u_0.shape\n",
    "    N = rows * cols\n",
    "    ecm = (1 / N)  * np.sum(np.power(u_1 - u_0, 2))\n",
    "    return 10 * np.log(u_0.max() ** 2 / ecm)\n",
    "\n",
    "def compute_error(original_imfile, reconstruction_imfile):\n",
    "    original_im = imread(original_imfile, 'L')\n",
    "    r_im = imread(reconstruction_imfile)\n",
    "    r_rows, r_cols = r_im.shape\n",
    "    original_resized = imresize(original_im, (r_rows, r_cols))\n",
    "    error = psnr(r_im, original_resized)\n",
    "    return error\n",
    "\n",
    "def compute_error_mse(original_imfile, reconstruction_imfile):\n",
    "    original_im = imread(original_imfile, 'L')\n",
    "    r_im = imread(reconstruction_imfile)\n",
    "    r_rows, r_cols = r_im.shape\n",
    "    original_resized = imresize(original_im, (r_rows, r_cols))\n",
    "    error = mse(r_im, original_resized)\n",
    "    return error"
   ]
  },
  {
   "cell_type": "code",
   "execution_count": 70,
   "metadata": {},
   "outputs": [
    {
     "name": "stderr",
     "output_type": "stream",
     "text": [
      "/Users/Angseton/anaconda3/lib/python3.6/site-packages/ipykernel_launcher.py:8: DeprecationWarning: `imread` is deprecated!\n",
      "`imread` is deprecated in SciPy 1.0.0, and will be removed in 1.2.0.\n",
      "Use ``imageio.imread`` instead.\n",
      "  \n",
      "/Users/Angseton/anaconda3/lib/python3.6/site-packages/ipykernel_launcher.py:9: DeprecationWarning: `imread` is deprecated!\n",
      "`imread` is deprecated in SciPy 1.0.0, and will be removed in 1.2.0.\n",
      "Use ``imageio.imread`` instead.\n",
      "  if __name__ == '__main__':\n",
      "/Users/Angseton/anaconda3/lib/python3.6/site-packages/ipykernel_launcher.py:11: DeprecationWarning: `imresize` is deprecated!\n",
      "`imresize` is deprecated in SciPy 1.0.0, and will be removed in 1.2.0.\n",
      "Use ``skimage.transform.resize`` instead.\n",
      "  # This is added back by InteractiveShellApp.init_path()\n",
      "/Users/Angseton/anaconda3/lib/python3.6/site-packages/ipykernel_launcher.py:16: DeprecationWarning: `imread` is deprecated!\n",
      "`imread` is deprecated in SciPy 1.0.0, and will be removed in 1.2.0.\n",
      "Use ``imageio.imread`` instead.\n",
      "  app.launch_new_instance()\n",
      "/Users/Angseton/anaconda3/lib/python3.6/site-packages/ipykernel_launcher.py:17: DeprecationWarning: `imread` is deprecated!\n",
      "`imread` is deprecated in SciPy 1.0.0, and will be removed in 1.2.0.\n",
      "Use ``imageio.imread`` instead.\n",
      "/Users/Angseton/anaconda3/lib/python3.6/site-packages/ipykernel_launcher.py:19: DeprecationWarning: `imresize` is deprecated!\n",
      "`imresize` is deprecated in SciPy 1.0.0, and will be removed in 1.2.0.\n",
      "Use ``skimage.transform.resize`` instead.\n"
     ]
    }
   ],
   "source": [
    "res['error'] = res.apply(lambda x: compute_error(x['input_file'], x['output_file']), axis=1)\n",
    "res['mse'] = res.apply(lambda x: compute_error_mse(x['input_file'], x['output_file']), axis=1)"
   ]
  },
  {
   "cell_type": "code",
   "execution_count": 71,
   "metadata": {},
   "outputs": [
    {
     "data": {
      "text/html": [
       "<div>\n",
       "<style scoped>\n",
       "    .dataframe tbody tr th:only-of-type {\n",
       "        vertical-align: middle;\n",
       "    }\n",
       "\n",
       "    .dataframe tbody tr th {\n",
       "        vertical-align: top;\n",
       "    }\n",
       "\n",
       "    .dataframe thead th {\n",
       "        text-align: right;\n",
       "    }\n",
       "</style>\n",
       "<table border=\"1\" class=\"dataframe\">\n",
       "  <thead>\n",
       "    <tr style=\"text-align: right;\">\n",
       "      <th></th>\n",
       "      <th>d_h</th>\n",
       "      <th>d_w</th>\n",
       "      <th>generator</th>\n",
       "      <th>generator_params</th>\n",
       "      <th>input_file</th>\n",
       "      <th>output</th>\n",
       "      <th>output_file</th>\n",
       "      <th>rays</th>\n",
       "      <th>rays_generated</th>\n",
       "      <th>error</th>\n",
       "      <th>mse</th>\n",
       "    </tr>\n",
       "  </thead>\n",
       "  <tbody>\n",
       "    <tr>\n",
       "      <th>0</th>\n",
       "      <td>25</td>\n",
       "      <td>25</td>\n",
       "      <td>random</td>\n",
       "      <td>{'sample_size': 100}</td>\n",
       "      <td>../recursosTP3/data/tomo.png</td>\n",
       "      <td>{'Input File': '../recursosTP3/data/tomo.png',...</td>\n",
       "      <td>../recursosTP3/results/tomoreconstruction_100.png</td>\n",
       "      <td>../recursosTP3/results/tomoreconstruction_100_...</td>\n",
       "      <td>100</td>\n",
       "      <td>64.410173</td>\n",
       "      <td>103.7008</td>\n",
       "    </tr>\n",
       "    <tr>\n",
       "      <th>1</th>\n",
       "      <td>25</td>\n",
       "      <td>25</td>\n",
       "      <td>random</td>\n",
       "      <td>{'sample_size': 200}</td>\n",
       "      <td>../recursosTP3/data/tomo.png</td>\n",
       "      <td>{'Input File': '../recursosTP3/data/tomo.png',...</td>\n",
       "      <td>../recursosTP3/results/tomoreconstruction_200.png</td>\n",
       "      <td>../recursosTP3/results/tomoreconstruction_200_...</td>\n",
       "      <td>200</td>\n",
       "      <td>65.190960</td>\n",
       "      <td>95.9120</td>\n",
       "    </tr>\n",
       "    <tr>\n",
       "      <th>2</th>\n",
       "      <td>25</td>\n",
       "      <td>25</td>\n",
       "      <td>random</td>\n",
       "      <td>{'sample_size': 500}</td>\n",
       "      <td>../recursosTP3/data/tomo.png</td>\n",
       "      <td>{'Input File': '../recursosTP3/data/tomo.png',...</td>\n",
       "      <td>../recursosTP3/results/tomoreconstruction_500.png</td>\n",
       "      <td>../recursosTP3/results/tomoreconstruction_500_...</td>\n",
       "      <td>500</td>\n",
       "      <td>64.258884</td>\n",
       "      <td>105.2816</td>\n",
       "    </tr>\n",
       "    <tr>\n",
       "      <th>3</th>\n",
       "      <td>25</td>\n",
       "      <td>25</td>\n",
       "      <td>random</td>\n",
       "      <td>{'sample_size': 1000}</td>\n",
       "      <td>../recursosTP3/data/tomo.png</td>\n",
       "      <td>{'Input File': '../recursosTP3/data/tomo.png',...</td>\n",
       "      <td>../recursosTP3/results/tomoreconstruction_1000...</td>\n",
       "      <td>../recursosTP3/results/tomoreconstruction_1000...</td>\n",
       "      <td>1000</td>\n",
       "      <td>64.737474</td>\n",
       "      <td>100.3616</td>\n",
       "    </tr>\n",
       "    <tr>\n",
       "      <th>4</th>\n",
       "      <td>25</td>\n",
       "      <td>25</td>\n",
       "      <td>random</td>\n",
       "      <td>{'sample_size': 5000}</td>\n",
       "      <td>../recursosTP3/data/tomo.png</td>\n",
       "      <td>{'Input File': '../recursosTP3/data/tomo.png',...</td>\n",
       "      <td>../recursosTP3/results/tomoreconstruction_5000...</td>\n",
       "      <td>../recursosTP3/results/tomoreconstruction_5000...</td>\n",
       "      <td>5000</td>\n",
       "      <td>64.362457</td>\n",
       "      <td>104.1968</td>\n",
       "    </tr>\n",
       "    <tr>\n",
       "      <th>5</th>\n",
       "      <td>25</td>\n",
       "      <td>25</td>\n",
       "      <td>random</td>\n",
       "      <td>{'sample_size': 10000}</td>\n",
       "      <td>../recursosTP3/data/tomo.png</td>\n",
       "      <td>{'Input File': '../recursosTP3/data/tomo.png',...</td>\n",
       "      <td>../recursosTP3/results/tomoreconstruction_1000...</td>\n",
       "      <td>../recursosTP3/results/tomoreconstruction_1000...</td>\n",
       "      <td>10000</td>\n",
       "      <td>64.946414</td>\n",
       "      <td>98.2864</td>\n",
       "    </tr>\n",
       "    <tr>\n",
       "      <th>6</th>\n",
       "      <td>25</td>\n",
       "      <td>25</td>\n",
       "      <td>random</td>\n",
       "      <td>{'sample_size': 25000}</td>\n",
       "      <td>../recursosTP3/data/tomo.png</td>\n",
       "      <td>{'Input File': '../recursosTP3/data/tomo.png',...</td>\n",
       "      <td>../recursosTP3/results/tomoreconstruction_2500...</td>\n",
       "      <td>../recursosTP3/results/tomoreconstruction_2500...</td>\n",
       "      <td>25000</td>\n",
       "      <td>64.617041</td>\n",
       "      <td>101.5776</td>\n",
       "    </tr>\n",
       "    <tr>\n",
       "      <th>7</th>\n",
       "      <td>25</td>\n",
       "      <td>25</td>\n",
       "      <td>random</td>\n",
       "      <td>{'sample_size': 50000}</td>\n",
       "      <td>../recursosTP3/data/tomo.png</td>\n",
       "      <td>{'Input File': '../recursosTP3/data/tomo.png',...</td>\n",
       "      <td>../recursosTP3/results/tomoreconstruction_5000...</td>\n",
       "      <td>../recursosTP3/results/tomoreconstruction_5000...</td>\n",
       "      <td>50000</td>\n",
       "      <td>64.147502</td>\n",
       "      <td>106.4608</td>\n",
       "    </tr>\n",
       "  </tbody>\n",
       "</table>\n",
       "</div>"
      ],
      "text/plain": [
       "  d_h d_w generator        generator_params                    input_file  \\\n",
       "0  25  25    random    {'sample_size': 100}  ../recursosTP3/data/tomo.png   \n",
       "1  25  25    random    {'sample_size': 200}  ../recursosTP3/data/tomo.png   \n",
       "2  25  25    random    {'sample_size': 500}  ../recursosTP3/data/tomo.png   \n",
       "3  25  25    random   {'sample_size': 1000}  ../recursosTP3/data/tomo.png   \n",
       "4  25  25    random   {'sample_size': 5000}  ../recursosTP3/data/tomo.png   \n",
       "5  25  25    random  {'sample_size': 10000}  ../recursosTP3/data/tomo.png   \n",
       "6  25  25    random  {'sample_size': 25000}  ../recursosTP3/data/tomo.png   \n",
       "7  25  25    random  {'sample_size': 50000}  ../recursosTP3/data/tomo.png   \n",
       "\n",
       "                                              output  \\\n",
       "0  {'Input File': '../recursosTP3/data/tomo.png',...   \n",
       "1  {'Input File': '../recursosTP3/data/tomo.png',...   \n",
       "2  {'Input File': '../recursosTP3/data/tomo.png',...   \n",
       "3  {'Input File': '../recursosTP3/data/tomo.png',...   \n",
       "4  {'Input File': '../recursosTP3/data/tomo.png',...   \n",
       "5  {'Input File': '../recursosTP3/data/tomo.png',...   \n",
       "6  {'Input File': '../recursosTP3/data/tomo.png',...   \n",
       "7  {'Input File': '../recursosTP3/data/tomo.png',...   \n",
       "\n",
       "                                         output_file  \\\n",
       "0  ../recursosTP3/results/tomoreconstruction_100.png   \n",
       "1  ../recursosTP3/results/tomoreconstruction_200.png   \n",
       "2  ../recursosTP3/results/tomoreconstruction_500.png   \n",
       "3  ../recursosTP3/results/tomoreconstruction_1000...   \n",
       "4  ../recursosTP3/results/tomoreconstruction_5000...   \n",
       "5  ../recursosTP3/results/tomoreconstruction_1000...   \n",
       "6  ../recursosTP3/results/tomoreconstruction_2500...   \n",
       "7  ../recursosTP3/results/tomoreconstruction_5000...   \n",
       "\n",
       "                                                rays  rays_generated  \\\n",
       "0  ../recursosTP3/results/tomoreconstruction_100_...             100   \n",
       "1  ../recursosTP3/results/tomoreconstruction_200_...             200   \n",
       "2  ../recursosTP3/results/tomoreconstruction_500_...             500   \n",
       "3  ../recursosTP3/results/tomoreconstruction_1000...            1000   \n",
       "4  ../recursosTP3/results/tomoreconstruction_5000...            5000   \n",
       "5  ../recursosTP3/results/tomoreconstruction_1000...           10000   \n",
       "6  ../recursosTP3/results/tomoreconstruction_2500...           25000   \n",
       "7  ../recursosTP3/results/tomoreconstruction_5000...           50000   \n",
       "\n",
       "       error       mse  \n",
       "0  64.410173  103.7008  \n",
       "1  65.190960   95.9120  \n",
       "2  64.258884  105.2816  \n",
       "3  64.737474  100.3616  \n",
       "4  64.362457  104.1968  \n",
       "5  64.946414   98.2864  \n",
       "6  64.617041  101.5776  \n",
       "7  64.147502  106.4608  "
      ]
     },
     "execution_count": 71,
     "metadata": {},
     "output_type": "execute_result"
    }
   ],
   "source": [
    "res"
   ]
  },
  {
   "cell_type": "code",
   "execution_count": 52,
   "metadata": {},
   "outputs": [],
   "source": [
    "def psnr(img1, img2):\n",
    "    mse = np.mean( (img1 - img2) ** 2 )\n",
    "    if mse == 0:\n",
    "        return 100\n",
    "    PIXEL_MAX = 255.0\n",
    "    return 20 * math.log10(PIXEL_MAX / math.sqrt(mse))\n",
    "\n",
    "def mse(img1, img2):\n",
    "    return np.mean( (img1 - img2) ** 2 )\n",
    "\n",
    "\n",
    "def compute_error(original_imfile, reconstruction_imfile):\n",
    "    original_im = imread(original_imfile, 'L')\n",
    "    r_im = imread(reconstruction_imfile)\n",
    "    r_rows, r_cols = r_im.shape\n",
    "    original_resized = imresize(original_im, (r_rows, r_cols))\n",
    "    print(f\"PSNR: {psnr(r_im, original_resized)}\")\n",
    "    print(f\"MSE: {mse(r_im, original_resized)}\")\n",
    "    f, [ax1, ax2] = plt.subplots(1, 2, figsize=(15,15))\n",
    "    ax1.imshow(original_resized, cmap='gray')\n",
    "    ax2.imshow(r_im, cmap='gray')"
   ]
  },
  {
   "cell_type": "code",
   "execution_count": 53,
   "metadata": {},
   "outputs": [
    {
     "name": "stderr",
     "output_type": "stream",
     "text": [
      "/Users/Angseton/anaconda3/lib/python3.6/site-packages/ipykernel_launcher.py:13: DeprecationWarning: `imread` is deprecated!\n",
      "`imread` is deprecated in SciPy 1.0.0, and will be removed in 1.2.0.\n",
      "Use ``imageio.imread`` instead.\n",
      "  del sys.path[0]\n",
      "/Users/Angseton/anaconda3/lib/python3.6/site-packages/ipykernel_launcher.py:14: DeprecationWarning: `imread` is deprecated!\n",
      "`imread` is deprecated in SciPy 1.0.0, and will be removed in 1.2.0.\n",
      "Use ``imageio.imread`` instead.\n",
      "  \n",
      "/Users/Angseton/anaconda3/lib/python3.6/site-packages/ipykernel_launcher.py:16: DeprecationWarning: `imresize` is deprecated!\n",
      "`imresize` is deprecated in SciPy 1.0.0, and will be removed in 1.2.0.\n",
      "Use ``skimage.transform.resize`` instead.\n",
      "  app.launch_new_instance()\n"
     ]
    },
    {
     "name": "stdout",
     "output_type": "stream",
     "text": [
      "PSNR: 27.972982541004185\n",
      "MSE: 103.7008\n",
      "PSNR: 28.312074136790034\n",
      "MSE: 95.912\n",
      "PSNR: 27.907278844280935\n",
      "MSE: 105.2816\n",
      "PSNR: 28.115127844944475\n",
      "MSE: 100.3616\n",
      "PSNR: 27.952259793677648\n",
      "MSE: 104.1968\n",
      "PSNR: 28.205869326957238\n",
      "MSE: 98.2864\n",
      "PSNR: 28.062824134411898\n",
      "MSE: 101.5776\n",
      "PSNR: 27.85890635511729\n",
      "MSE: 106.4608\n"
     ]
    },
    {
     "data": {
      "image/png": "[encoded data removed]",
      "text/plain": [
       "<Figure size 1080x1080 with 2 Axes>"
      ]
     },
     "metadata": {},
     "output_type": "display_data"
    },
    {
     "data": {
      "image/png": "[encoded data removed]",
      "text/plain": [
       "<Figure size 1080x1080 with 2 Axes>"
      ]
     },
     "metadata": {},
     "output_type": "display_data"
    },
    {
     "data": {
      "image/png": "[encoded data removed]",
      "text/plain": [
       "<Figure size 1080x1080 with 2 Axes>"
      ]
     },
     "metadata": {},
     "output_type": "display_data"
    },
    {
     "data": {
      "image/png": "[encoded data removed]",
      "text/plain": [
       "<Figure size 1080x1080 with 2 Axes>"
      ]
     },
     "metadata": {},
     "output_type": "display_data"
    },
    {
     "data": {
      "image/png": "[encoded data removed]",
      "text/plain": [
       "<Figure size 1080x1080 with 2 Axes>"
      ]
     },
     "metadata": {},
     "output_type": "display_data"
    },
    {
     "data": {
      "image/png": "[encoded data removed]",
      "text/plain": [
       "<Figure size 1080x1080 with 2 Axes>"
      ]
     },
     "metadata": {},
     "output_type": "display_data"
    },
    {
     "data": {
      "image/png": "[encoded data removed]",
      "text/plain": [
       "<Figure size 1080x1080 with 2 Axes>"
      ]
     },
     "metadata": {},
     "output_type": "display_data"
    },
    {
     "data": {
      "image/png": "[encoded data removed]",
      "text/plain": [
       "<Figure size 1080x1080 with 2 Axes>"
      ]
     },
     "metadata": {},
     "output_type": "display_data"
    }
   ],
   "source": [
    "res['error'] = res.apply(lambda x: compute_error(x['input_file'], x['output_file']), axis=1)"
   ]
  },
  {
   "cell_type": "markdown",
   "metadata": {},
   "source": [
    "## Error vs tamaño de la discretizacion"
   ]
  },
  {
   "cell_type": "code",
   "execution_count": 61,
   "metadata": {},
   "outputs": [
    {
     "name": "stderr",
     "output_type": "stream",
     "text": [
      "/Users/Angseton/anaconda3/lib/python3.6/site-packages/ipykernel_launcher.py:22: DeprecationWarning: `imread` is deprecated!\n",
      "`imread` is deprecated in SciPy 1.0.0, and will be removed in 1.2.0.\n",
      "Use ``imageio.imread`` instead.\n",
      "/Users/Angseton/anaconda3/lib/python3.6/site-packages/ipykernel_launcher.py:22: DeprecationWarning: `imread` is deprecated!\n",
      "`imread` is deprecated in SciPy 1.0.0, and will be removed in 1.2.0.\n",
      "Use ``imageio.imread`` instead.\n",
      "/Users/Angseton/anaconda3/lib/python3.6/site-packages/ipykernel_launcher.py:22: DeprecationWarning: `imread` is deprecated!\n",
      "`imread` is deprecated in SciPy 1.0.0, and will be removed in 1.2.0.\n",
      "Use ``imageio.imread`` instead.\n",
      "/Users/Angseton/anaconda3/lib/python3.6/site-packages/ipykernel_launcher.py:22: DeprecationWarning: `imread` is deprecated!\n",
      "`imread` is deprecated in SciPy 1.0.0, and will be removed in 1.2.0.\n",
      "Use ``imageio.imread`` instead.\n"
     ]
    },
    {
     "name": "stdout",
     "output_type": "stream",
     "text": [
      " Point 4/4 done         "
     ]
    }
   ],
   "source": [
    "experiments  = {   \n",
    "    f'discretization_{i}':{\n",
    "            'imfile': '../recursosTP3/data/tomo.png',\n",
    "            'outdir': '../recursosTP3/results/discretization',\n",
    "            'outname': f'tomo_reconstruction_discretization_{i}',\n",
    "            'ray_generator': 'random',\n",
    "            'disc_h':i, \n",
    "            'disc_w':i,\n",
    "            'generator_params': {\n",
    "                'sample_size' : 10000,\n",
    "            }\n",
    "        }\n",
    "    for i in [20, 25, 30, 40]\n",
    "}\n",
    "\n",
    "grid = experiments.values()\n",
    "res_disc = run_grid_in_parallel(reconstruction, grid)"
   ]
  },
  {
   "cell_type": "code",
   "execution_count": 62,
   "metadata": {},
   "outputs": [
    {
     "data": {
      "text/html": [
       "<div>\n",
       "<style scoped>\n",
       "    .dataframe tbody tr th:only-of-type {\n",
       "        vertical-align: middle;\n",
       "    }\n",
       "\n",
       "    .dataframe tbody tr th {\n",
       "        vertical-align: top;\n",
       "    }\n",
       "\n",
       "    .dataframe thead th {\n",
       "        text-align: right;\n",
       "    }\n",
       "</style>\n",
       "<table border=\"1\" class=\"dataframe\">\n",
       "  <thead>\n",
       "    <tr style=\"text-align: right;\">\n",
       "      <th></th>\n",
       "      <th>d_h</th>\n",
       "      <th>d_w</th>\n",
       "      <th>generator</th>\n",
       "      <th>generator_params</th>\n",
       "      <th>input_file</th>\n",
       "      <th>output</th>\n",
       "      <th>output_file</th>\n",
       "      <th>rays</th>\n",
       "      <th>rays_generated</th>\n",
       "    </tr>\n",
       "  </thead>\n",
       "  <tbody>\n",
       "    <tr>\n",
       "      <th>0</th>\n",
       "      <td>20</td>\n",
       "      <td>20</td>\n",
       "      <td>random</td>\n",
       "      <td>{'sample_size': 10000}</td>\n",
       "      <td>../recursosTP3/data/tomo.png</td>\n",
       "      <td>{'Input File': '../recursosTP3/data/tomo.png',...</td>\n",
       "      <td>../recursosTP3/results/discretization/tomo_rec...</td>\n",
       "      <td>../recursosTP3/results/discretization/tomo_rec...</td>\n",
       "      <td>10000</td>\n",
       "    </tr>\n",
       "    <tr>\n",
       "      <th>1</th>\n",
       "      <td>25</td>\n",
       "      <td>25</td>\n",
       "      <td>random</td>\n",
       "      <td>{'sample_size': 10000}</td>\n",
       "      <td>../recursosTP3/data/tomo.png</td>\n",
       "      <td>{'Input File': '../recursosTP3/data/tomo.png',...</td>\n",
       "      <td>../recursosTP3/results/discretization/tomo_rec...</td>\n",
       "      <td>../recursosTP3/results/discretization/tomo_rec...</td>\n",
       "      <td>10000</td>\n",
       "    </tr>\n",
       "    <tr>\n",
       "      <th>2</th>\n",
       "      <td>30</td>\n",
       "      <td>30</td>\n",
       "      <td>random</td>\n",
       "      <td>{'sample_size': 10000}</td>\n",
       "      <td>../recursosTP3/data/tomo.png</td>\n",
       "      <td>{'Input File': '../recursosTP3/data/tomo.png',...</td>\n",
       "      <td>../recursosTP3/results/discretization/tomo_rec...</td>\n",
       "      <td>../recursosTP3/results/discretization/tomo_rec...</td>\n",
       "      <td>10000</td>\n",
       "    </tr>\n",
       "    <tr>\n",
       "      <th>3</th>\n",
       "      <td>40</td>\n",
       "      <td>40</td>\n",
       "      <td>random</td>\n",
       "      <td>{'sample_size': 10000}</td>\n",
       "      <td>../recursosTP3/data/tomo.png</td>\n",
       "      <td>{'Input File': '../recursosTP3/data/tomo.png',...</td>\n",
       "      <td>../recursosTP3/results/discretization/tomo_rec...</td>\n",
       "      <td>../recursosTP3/results/discretization/tomo_rec...</td>\n",
       "      <td>10000</td>\n",
       "    </tr>\n",
       "  </tbody>\n",
       "</table>\n",
       "</div>"
      ],
      "text/plain": [
       "  d_h d_w generator        generator_params                    input_file  \\\n",
       "0  20  20    random  {'sample_size': 10000}  ../recursosTP3/data/tomo.png   \n",
       "1  25  25    random  {'sample_size': 10000}  ../recursosTP3/data/tomo.png   \n",
       "2  30  30    random  {'sample_size': 10000}  ../recursosTP3/data/tomo.png   \n",
       "3  40  40    random  {'sample_size': 10000}  ../recursosTP3/data/tomo.png   \n",
       "\n",
       "                                              output  \\\n",
       "0  {'Input File': '../recursosTP3/data/tomo.png',...   \n",
       "1  {'Input File': '../recursosTP3/data/tomo.png',...   \n",
       "2  {'Input File': '../recursosTP3/data/tomo.png',...   \n",
       "3  {'Input File': '../recursosTP3/data/tomo.png',...   \n",
       "\n",
       "                                         output_file  \\\n",
       "0  ../recursosTP3/results/discretization/tomo_rec...   \n",
       "1  ../recursosTP3/results/discretization/tomo_rec...   \n",
       "2  ../recursosTP3/results/discretization/tomo_rec...   \n",
       "3  ../recursosTP3/results/discretization/tomo_rec...   \n",
       "\n",
       "                                                rays  rays_generated  \n",
       "0  ../recursosTP3/results/discretization/tomo_rec...           10000  \n",
       "1  ../recursosTP3/results/discretization/tomo_rec...           10000  \n",
       "2  ../recursosTP3/results/discretization/tomo_rec...           10000  \n",
       "3  ../recursosTP3/results/discretization/tomo_rec...           10000  "
      ]
     },
     "execution_count": 62,
     "metadata": {},
     "output_type": "execute_result"
    }
   ],
   "source": [
    "res_disc"
   ]
  },
  {
   "cell_type": "code",
   "execution_count": 72,
   "metadata": {},
   "outputs": [],
   "source": [
    "def psnr(u_0, u_1):\n",
    "    rows, cols = u_0.shape\n",
    "    N = rows * cols\n",
    "    ecm = (1 / N)  * np.sum(np.power(u_1 - u_0, 2))\n",
    "    return 10 * np.log(u_0.max() ** 2 / ecm)\n",
    "\n",
    "def compute_error(original_imfile, reconstruction_imfile):\n",
    "    original_im = imread(original_imfile, 'L')\n",
    "    r_im = imread(reconstruction_imfile)\n",
    "    r_rows, r_cols = r_im.shape\n",
    "    original_resized = imresize(original_im, (r_rows, r_cols))\n",
    "    error = psnr(r_im, original_resized)\n",
    "    return error\n",
    "\n",
    "\n",
    "def compute_error_mse(original_imfile, reconstruction_imfile):\n",
    "    original_im = imread(original_imfile, 'L')\n",
    "    r_im = imread(reconstruction_imfile)\n",
    "    r_rows, r_cols = r_im.shape\n",
    "    original_resized = imresize(original_im, (r_rows, r_cols))\n",
    "    error = mse(r_im, original_resized)\n",
    "    return error"
   ]
  },
  {
   "cell_type": "code",
   "execution_count": 73,
   "metadata": {},
   "outputs": [
    {
     "name": "stderr",
     "output_type": "stream",
     "text": [
      "/Users/Angseton/anaconda3/lib/python3.6/site-packages/ipykernel_launcher.py:8: DeprecationWarning: `imread` is deprecated!\n",
      "`imread` is deprecated in SciPy 1.0.0, and will be removed in 1.2.0.\n",
      "Use ``imageio.imread`` instead.\n",
      "  \n",
      "/Users/Angseton/anaconda3/lib/python3.6/site-packages/ipykernel_launcher.py:9: DeprecationWarning: `imread` is deprecated!\n",
      "`imread` is deprecated in SciPy 1.0.0, and will be removed in 1.2.0.\n",
      "Use ``imageio.imread`` instead.\n",
      "  if __name__ == '__main__':\n",
      "/Users/Angseton/anaconda3/lib/python3.6/site-packages/ipykernel_launcher.py:11: DeprecationWarning: `imresize` is deprecated!\n",
      "`imresize` is deprecated in SciPy 1.0.0, and will be removed in 1.2.0.\n",
      "Use ``skimage.transform.resize`` instead.\n",
      "  # This is added back by InteractiveShellApp.init_path()\n",
      "/Users/Angseton/anaconda3/lib/python3.6/site-packages/ipykernel_launcher.py:17: DeprecationWarning: `imread` is deprecated!\n",
      "`imread` is deprecated in SciPy 1.0.0, and will be removed in 1.2.0.\n",
      "Use ``imageio.imread`` instead.\n",
      "/Users/Angseton/anaconda3/lib/python3.6/site-packages/ipykernel_launcher.py:18: DeprecationWarning: `imread` is deprecated!\n",
      "`imread` is deprecated in SciPy 1.0.0, and will be removed in 1.2.0.\n",
      "Use ``imageio.imread`` instead.\n",
      "/Users/Angseton/anaconda3/lib/python3.6/site-packages/ipykernel_launcher.py:20: DeprecationWarning: `imresize` is deprecated!\n",
      "`imresize` is deprecated in SciPy 1.0.0, and will be removed in 1.2.0.\n",
      "Use ``skimage.transform.resize`` instead.\n"
     ]
    }
   ],
   "source": [
    "res_disc['error'] = res.apply(lambda x: compute_error(x['input_file'], x['output_file']), axis=1)\n",
    "res_disc['mse'] = res.apply(lambda x: compute_error_mse(x['input_file'], x['output_file']), axis=1)"
   ]
  },
  {
   "cell_type": "code",
   "execution_count": 74,
   "metadata": {},
   "outputs": [
    {
     "data": {
      "text/html": [
       "<div>\n",
       "<style scoped>\n",
       "    .dataframe tbody tr th:only-of-type {\n",
       "        vertical-align: middle;\n",
       "    }\n",
       "\n",
       "    .dataframe tbody tr th {\n",
       "        vertical-align: top;\n",
       "    }\n",
       "\n",
       "    .dataframe thead th {\n",
       "        text-align: right;\n",
       "    }\n",
       "</style>\n",
       "<table border=\"1\" class=\"dataframe\">\n",
       "  <thead>\n",
       "    <tr style=\"text-align: right;\">\n",
       "      <th></th>\n",
       "      <th>d_h</th>\n",
       "      <th>d_w</th>\n",
       "      <th>generator</th>\n",
       "      <th>generator_params</th>\n",
       "      <th>input_file</th>\n",
       "      <th>output</th>\n",
       "      <th>output_file</th>\n",
       "      <th>rays</th>\n",
       "      <th>rays_generated</th>\n",
       "      <th>error</th>\n",
       "      <th>mse</th>\n",
       "    </tr>\n",
       "  </thead>\n",
       "  <tbody>\n",
       "    <tr>\n",
       "      <th>0</th>\n",
       "      <td>20</td>\n",
       "      <td>20</td>\n",
       "      <td>random</td>\n",
       "      <td>{'sample_size': 10000}</td>\n",
       "      <td>../recursosTP3/data/tomo.png</td>\n",
       "      <td>{'Input File': '../recursosTP3/data/tomo.png',...</td>\n",
       "      <td>../recursosTP3/results/discretization/tomo_rec...</td>\n",
       "      <td>../recursosTP3/results/discretization/tomo_rec...</td>\n",
       "      <td>10000</td>\n",
       "      <td>64.410173</td>\n",
       "      <td>103.7008</td>\n",
       "    </tr>\n",
       "    <tr>\n",
       "      <th>1</th>\n",
       "      <td>25</td>\n",
       "      <td>25</td>\n",
       "      <td>random</td>\n",
       "      <td>{'sample_size': 10000}</td>\n",
       "      <td>../recursosTP3/data/tomo.png</td>\n",
       "      <td>{'Input File': '../recursosTP3/data/tomo.png',...</td>\n",
       "      <td>../recursosTP3/results/discretization/tomo_rec...</td>\n",
       "      <td>../recursosTP3/results/discretization/tomo_rec...</td>\n",
       "      <td>10000</td>\n",
       "      <td>65.190960</td>\n",
       "      <td>95.9120</td>\n",
       "    </tr>\n",
       "    <tr>\n",
       "      <th>2</th>\n",
       "      <td>30</td>\n",
       "      <td>30</td>\n",
       "      <td>random</td>\n",
       "      <td>{'sample_size': 10000}</td>\n",
       "      <td>../recursosTP3/data/tomo.png</td>\n",
       "      <td>{'Input File': '../recursosTP3/data/tomo.png',...</td>\n",
       "      <td>../recursosTP3/results/discretization/tomo_rec...</td>\n",
       "      <td>../recursosTP3/results/discretization/tomo_rec...</td>\n",
       "      <td>10000</td>\n",
       "      <td>64.258884</td>\n",
       "      <td>105.2816</td>\n",
       "    </tr>\n",
       "    <tr>\n",
       "      <th>3</th>\n",
       "      <td>40</td>\n",
       "      <td>40</td>\n",
       "      <td>random</td>\n",
       "      <td>{'sample_size': 10000}</td>\n",
       "      <td>../recursosTP3/data/tomo.png</td>\n",
       "      <td>{'Input File': '../recursosTP3/data/tomo.png',...</td>\n",
       "      <td>../recursosTP3/results/discretization/tomo_rec...</td>\n",
       "      <td>../recursosTP3/results/discretization/tomo_rec...</td>\n",
       "      <td>10000</td>\n",
       "      <td>64.737474</td>\n",
       "      <td>100.3616</td>\n",
       "    </tr>\n",
       "  </tbody>\n",
       "</table>\n",
       "</div>"
      ],
      "text/plain": [
       "  d_h d_w generator        generator_params                    input_file  \\\n",
       "0  20  20    random  {'sample_size': 10000}  ../recursosTP3/data/tomo.png   \n",
       "1  25  25    random  {'sample_size': 10000}  ../recursosTP3/data/tomo.png   \n",
       "2  30  30    random  {'sample_size': 10000}  ../recursosTP3/data/tomo.png   \n",
       "3  40  40    random  {'sample_size': 10000}  ../recursosTP3/data/tomo.png   \n",
       "\n",
       "                                              output  \\\n",
       "0  {'Input File': '../recursosTP3/data/tomo.png',...   \n",
       "1  {'Input File': '../recursosTP3/data/tomo.png',...   \n",
       "2  {'Input File': '../recursosTP3/data/tomo.png',...   \n",
       "3  {'Input File': '../recursosTP3/data/tomo.png',...   \n",
       "\n",
       "                                         output_file  \\\n",
       "0  ../recursosTP3/results/discretization/tomo_rec...   \n",
       "1  ../recursosTP3/results/discretization/tomo_rec...   \n",
       "2  ../recursosTP3/results/discretization/tomo_rec...   \n",
       "3  ../recursosTP3/results/discretization/tomo_rec...   \n",
       "\n",
       "                                                rays  rays_generated  \\\n",
       "0  ../recursosTP3/results/discretization/tomo_rec...           10000   \n",
       "1  ../recursosTP3/results/discretization/tomo_rec...           10000   \n",
       "2  ../recursosTP3/results/discretization/tomo_rec...           10000   \n",
       "3  ../recursosTP3/results/discretization/tomo_rec...           10000   \n",
       "\n",
       "       error       mse  \n",
       "0  64.410173  103.7008  \n",
       "1  65.190960   95.9120  \n",
       "2  64.258884  105.2816  \n",
       "3  64.737474  100.3616  "
      ]
     },
     "execution_count": 74,
     "metadata": {},
     "output_type": "execute_result"
    }
   ],
   "source": [
    "res_disc"
   ]
  },
  {
   "cell_type": "code",
   "execution_count": 64,
   "metadata": {},
   "outputs": [
    {
     "name": "stderr",
     "output_type": "stream",
     "text": [
      "/Users/Angseton/anaconda3/lib/python3.6/site-packages/ipykernel_launcher.py:2: DeprecationWarning: `imread` is deprecated!\n",
      "`imread` is deprecated in SciPy 1.0.0, and will be removed in 1.2.0.\n",
      "Use ``imageio.imread`` instead.\n",
      "  \n",
      "/Users/Angseton/anaconda3/lib/python3.6/site-packages/ipykernel_launcher.py:3: DeprecationWarning: `imread` is deprecated!\n",
      "`imread` is deprecated in SciPy 1.0.0, and will be removed in 1.2.0.\n",
      "Use ``imageio.imread`` instead.\n",
      "  This is separate from the ipykernel package so we can avoid doing imports until\n",
      "/Users/Angseton/anaconda3/lib/python3.6/site-packages/ipykernel_launcher.py:4: DeprecationWarning: `imread` is deprecated!\n",
      "`imread` is deprecated in SciPy 1.0.0, and will be removed in 1.2.0.\n",
      "Use ``imageio.imread`` instead.\n",
      "  after removing the cwd from sys.path.\n",
      "/Users/Angseton/anaconda3/lib/python3.6/site-packages/ipykernel_launcher.py:5: DeprecationWarning: `imread` is deprecated!\n",
      "`imread` is deprecated in SciPy 1.0.0, and will be removed in 1.2.0.\n",
      "Use ``imageio.imread`` instead.\n",
      "  \"\"\"\n",
      "/Users/Angseton/anaconda3/lib/python3.6/site-packages/ipykernel_launcher.py:6: DeprecationWarning: `imread` is deprecated!\n",
      "`imread` is deprecated in SciPy 1.0.0, and will be removed in 1.2.0.\n",
      "Use ``imageio.imread`` instead.\n",
      "  \n"
     ]
    },
    {
     "data": {
      "text/plain": [
       "<matplotlib.image.AxesImage at 0xb1a53da90>"
      ]
     },
     "execution_count": 64,
     "metadata": {},
     "output_type": "execute_result"
    },
    {
     "data": {
      "image/png": "[encoded data removed]",
      "text/plain": [
       "<Figure size 1080x1080 with 5 Axes>"
      ]
     },
     "metadata": {},
     "output_type": "display_data"
    }
   ],
   "source": [
    "f, axarr = plt.subplots(1, 5, figsize=(15,15))\n",
    "axarr[0].imshow(imread(res_disc.iloc[0]['input_file']), cmap='gray')\n",
    "axarr[1].imshow(imread(res_disc.iloc[0]['output_file']), cmap='gray')\n",
    "axarr[2].imshow(imread(res_disc.iloc[1]['output_file']), cmap='gray')\n",
    "axarr[3].imshow(imread(res_disc.iloc[2]['output_file']), cmap='gray')\n",
    "axarr[4].imshow(imread(res_disc.iloc[3]['output_file']), cmap='gray')"
   ]
  },
  {
   "cell_type": "markdown",
   "metadata": {},
   "source": [
    "## Valores singulares y error"
   ]
  },
  {
   "cell_type": "code",
   "execution_count": 75,
   "metadata": {},
   "outputs": [
    {
     "name": "stderr",
     "output_type": "stream",
     "text": [
      "/Users/Angseton/anaconda3/lib/python3.6/site-packages/ipykernel_launcher.py:22: DeprecationWarning: `imread` is deprecated!\n",
      "`imread` is deprecated in SciPy 1.0.0, and will be removed in 1.2.0.\n",
      "Use ``imageio.imread`` instead.\n"
     ]
    }
   ],
   "source": [
    "i_file = '../recursosTP3/data/tomo.png'\n",
    "o_dir = '../recursosTP3/results'\n",
    "o_name = 'tomoreconstruction1'\n",
    "ray_generator='random'\n",
    "ray_generator_params = {\n",
    "    'sample_size' : 10000,\n",
    "}\n",
    "res_sing = reconstruction(i_file, ray_generator_params, \n",
    "                     d_h=25, d_w=25,\n",
    "                     ray_generator='random', \n",
    "                     outdir=o_dir, outname=o_name)"
   ]
  },
  {
   "cell_type": "code",
   "execution_count": 76,
   "metadata": {},
   "outputs": [
    {
     "data": {
      "text/plain": [
       "{'input_file': '../recursosTP3/data/tomo.png',\n",
       " 'output_file': '../recursosTP3/results/tomoreconstruction1.png',\n",
       " 'rays': '../recursosTP3/results/tomoreconstruction1_rays.csv',\n",
       " 'd_w': '25',\n",
       " 'd_h': '25',\n",
       " 'rays_generated': 10000,\n",
       " 'generator': 'random',\n",
       " 'generator_params': {'sample_size': 10000},\n",
       " 'output': {'Input File': '../recursosTP3/data/tomo.png',\n",
       "  'Output File': '../recursosTP3/results/tomoreconstruction1.png',\n",
       "  'Discretization Size': '25x25',\n",
       "  'Eigenvalue 0 ': '147972',\n",
       "  'Eigenvalue 1 ': '82916.7',\n",
       "  'Eigenvalue 2 ': '65585.9',\n",
       "  'Eigenvalue 3 ': '53135.5',\n",
       "  'Eigenvalue 4 ': '47124.9',\n",
       "  'Eigenvalue 5 ': '44216.6',\n",
       "  'Eigenvalue 6 ': '40906',\n",
       "  'Eigenvalue 7 ': '39397.1',\n",
       "  'Eigenvalue 8 ': '37756',\n",
       "  'Eigenvalue 9 ': '34404.2',\n",
       "  'Eigenvalue 10 ': '31677.3',\n",
       "  'Eigenvalue 11 ': '30535.9',\n",
       "  'Eigenvalue 12 ': '29612.6',\n",
       "  'Eigenvalue 13 ': '27369',\n",
       "  'Eigenvalue 14 ': '26395.3',\n",
       "  'Eigenvalue 15 ': '25924.4',\n",
       "  'Eigenvalue 16 ': '24720.8',\n",
       "  'Eigenvalue 17 ': '23992.9',\n",
       "  'Eigenvalue 18 ': '23324.9',\n",
       "  'Eigenvalue 19 ': '22960.6',\n",
       "  'Eigenvalue 20 ': '22199.5',\n",
       "  'Eigenvalue 21 ': '21818.9',\n",
       "  'Eigenvalue 22 ': '21146.5',\n",
       "  'Eigenvalue 23 ': '20879.6',\n",
       "  'Eigenvalue 24 ': '20203.2',\n",
       "  'Eigenvalue 25 ': '19475.4',\n",
       "  'Eigenvalue 26 ': '18975.1',\n",
       "  'Eigenvalue 27 ': '18508.3',\n",
       "  'Eigenvalue 28 ': '18443.3',\n",
       "  'Eigenvalue 29 ': '17683.4',\n",
       "  'Eigenvalue 30 ': '17188.1',\n",
       "  'Eigenvalue 31 ': '16897.1',\n",
       "  'Eigenvalue 32 ': '16532.9',\n",
       "  'Eigenvalue 33 ': '16184.9',\n",
       "  'Eigenvalue 34 ': '15921.5',\n",
       "  'Eigenvalue 35 ': '15721.9',\n",
       "  'Eigenvalue 36 ': '15384.9',\n",
       "  'Eigenvalue 37 ': '15342.8',\n",
       "  'Eigenvalue 38 ': '15090.8',\n",
       "  'Eigenvalue 39 ': '14841.2',\n",
       "  'Eigenvalue 40 ': '14378',\n",
       "  'Eigenvalue 41 ': '14116.4',\n",
       "  'Eigenvalue 42 ': '14011.2',\n",
       "  'Eigenvalue 43 ': '13736.5',\n",
       "  'Eigenvalue 44 ': '13308.9',\n",
       "  'Eigenvalue 45 ': '13219.9',\n",
       "  'Eigenvalue 46 ': '13306.3',\n",
       "  'Eigenvalue 47 ': '12777.4',\n",
       "  'Eigenvalue 48 ': '12538.1',\n",
       "  'Eigenvalue 49 ': '12370.8',\n",
       "  'Eigenvalue 50 ': '12263',\n",
       "  'Eigenvalue 51 ': '12036.2',\n",
       "  'Eigenvalue 52 ': '11935.6',\n",
       "  'Eigenvalue 53 ': '11617',\n",
       "  'Eigenvalue 54 ': '11448.9',\n",
       "  'Eigenvalue 55 ': '11215.2',\n",
       "  'Eigenvalue 56 ': '11081.4',\n",
       "  'Eigenvalue 57 ': '10993.1',\n",
       "  'Eigenvalue 58 ': '10829.3',\n",
       "  'Eigenvalue 59 ': '10739.4',\n",
       "  'Eigenvalue 60 ': '10593.5',\n",
       "  'Eigenvalue 61 ': '10451.7',\n",
       "  'Eigenvalue 62 ': '10366.8',\n",
       "  'Eigenvalue 63 ': '10153.8',\n",
       "  'Eigenvalue 64 ': '10036.5',\n",
       "  'Eigenvalue 65 ': '10003.2',\n",
       "  'Eigenvalue 66 ': '9851.04',\n",
       "  'Eigenvalue 67 ': '9757.55',\n",
       "  'Eigenvalue 68 ': '9642.04',\n",
       "  'Eigenvalue 69 ': '9614.01',\n",
       "  'Eigenvalue 70 ': '9539.21',\n",
       "  'Eigenvalue 71 ': '9458.84',\n",
       "  'Eigenvalue 72 ': '9323.84',\n",
       "  'Eigenvalue 73 ': '9080.84',\n",
       "  'Eigenvalue 74 ': '8983.63',\n",
       "  'Eigenvalue 75 ': '8937.19',\n",
       "  'Eigenvalue 76 ': '8820.92',\n",
       "  'Eigenvalue 77 ': '8772.87',\n",
       "  'Eigenvalue 78 ': '8655.64',\n",
       "  'Eigenvalue 79 ': '8554.66',\n",
       "  'Eigenvalue 80 ': '8546.7',\n",
       "  'Eigenvalue 81 ': '8368.58',\n",
       "  'Eigenvalue 82 ': '8324.67',\n",
       "  'Eigenvalue 83 ': '8223.85',\n",
       "  'Eigenvalue 84 ': '8080.17',\n",
       "  'Eigenvalue 85 ': '8119.74',\n",
       "  'Eigenvalue 86 ': '7951.69',\n",
       "  'Eigenvalue 87 ': '7863.71',\n",
       "  'Eigenvalue 88 ': '7918.2',\n",
       "  'Eigenvalue 89 ': '7716.73',\n",
       "  'Eigenvalue 90 ': '7653.76',\n",
       "  'Eigenvalue 91 ': '7588.89',\n",
       "  'Eigenvalue 92 ': '7479.47',\n",
       "  'Eigenvalue 93 ': '7453.28',\n",
       "  'Eigenvalue 94 ': '7419.43',\n",
       "  'Eigenvalue 95 ': '7265.73',\n",
       "  'Eigenvalue 96 ': '7228.51',\n",
       "  'Eigenvalue 97 ': '7184',\n",
       "  'Eigenvalue 98 ': '7135.9',\n",
       "  'Eigenvalue 99 ': '7033.23',\n",
       "  'Eigenvalue 100 ': '7001.41',\n",
       "  'Eigenvalue 101 ': '6937.39',\n",
       "  'Eigenvalue 102 ': '6904.16',\n",
       "  'Eigenvalue 103 ': '6830.71',\n",
       "  'Eigenvalue 104 ': '6767.89',\n",
       "  'Eigenvalue 105 ': '6700.85',\n",
       "  'Eigenvalue 106 ': '6678.97',\n",
       "  'Eigenvalue 107 ': '6618.83',\n",
       "  'Eigenvalue 108 ': '6537.68',\n",
       "  'Eigenvalue 109 ': '6550.14',\n",
       "  'Eigenvalue 110 ': '6447.47',\n",
       "  'Eigenvalue 111 ': '6426.19',\n",
       "  'Eigenvalue 112 ': '6358.31',\n",
       "  'Eigenvalue 113 ': '6325.23',\n",
       "  'Eigenvalue 114 ': '6272.87',\n",
       "  'Eigenvalue 115 ': '6261.46',\n",
       "  'Eigenvalue 116 ': '6236.19',\n",
       "  'Eigenvalue 117 ': '6187.22',\n",
       "  'Eigenvalue 118 ': '6102.25',\n",
       "  'Eigenvalue 119 ': '6056.13',\n",
       "  'Eigenvalue 120 ': '5998.35',\n",
       "  'Eigenvalue 121 ': '5968.91',\n",
       "  'Eigenvalue 122 ': '5913.82',\n",
       "  'Eigenvalue 123 ': '5887.3',\n",
       "  'Eigenvalue 124 ': '5830.19',\n",
       "  'Eigenvalue 125 ': '5793.84',\n",
       "  'Eigenvalue 126 ': '5779.34',\n",
       "  'Eigenvalue 127 ': '5734.12',\n",
       "  'Eigenvalue 128 ': '5692.04',\n",
       "  'Eigenvalue 129 ': '5632.57',\n",
       "  'Eigenvalue 130 ': '5582.71',\n",
       "  'Eigenvalue 131 ': '5538.66',\n",
       "  'Eigenvalue 132 ': '5503.87',\n",
       "  'Eigenvalue 133 ': '5491.79',\n",
       "  'Eigenvalue 134 ': '5469.27',\n",
       "  'Eigenvalue 135 ': '5390.91',\n",
       "  'Eigenvalue 136 ': '5343.83',\n",
       "  'Eigenvalue 137 ': '5313.37',\n",
       "  'Eigenvalue 138 ': '5284.44',\n",
       "  'Eigenvalue 139 ': '5236.92',\n",
       "  'Eigenvalue 140 ': '5183.41',\n",
       "  'Eigenvalue 141 ': '5162.06',\n",
       "  'Eigenvalue 142 ': '5114.22',\n",
       "  'Eigenvalue 143 ': '5070.12',\n",
       "  'Eigenvalue 144 ': '5017.63',\n",
       "  'Eigenvalue 145 ': '4997.99',\n",
       "  'Eigenvalue 146 ': '4971.3',\n",
       "  'Eigenvalue 147 ': '4956.13',\n",
       "  'Eigenvalue 148 ': '4919.67',\n",
       "  'Eigenvalue 149 ': '4893.94',\n",
       "  'Eigenvalue 150 ': '4838.96',\n",
       "  'Eigenvalue 151 ': '4795.18',\n",
       "  'Eigenvalue 152 ': '4776.83',\n",
       "  'Eigenvalue 153 ': '4755.69',\n",
       "  'Eigenvalue 154 ': '4733.24',\n",
       "  'Eigenvalue 155 ': '4702.08',\n",
       "  'Eigenvalue 156 ': '4676.44',\n",
       "  'Eigenvalue 157 ': '4658.23',\n",
       "  'Eigenvalue 158 ': '4619.47',\n",
       "  'Eigenvalue 159 ': '4604.97',\n",
       "  'Eigenvalue 160 ': '4533.03',\n",
       "  'Eigenvalue 161 ': '4496.41',\n",
       "  'Eigenvalue 162 ': '4453.22',\n",
       "  'Eigenvalue 163 ': '4407.18',\n",
       "  'Eigenvalue 164 ': '4391.38',\n",
       "  'Eigenvalue 165 ': '4382.16',\n",
       "  'Eigenvalue 166 ': '4344.25',\n",
       "  'Eigenvalue 167 ': '4305.91',\n",
       "  'Eigenvalue 168 ': '4294.11',\n",
       "  'Eigenvalue 169 ': '4283.16',\n",
       "  'Eigenvalue 170 ': '4261.09',\n",
       "  'Eigenvalue 171 ': '4225.97',\n",
       "  'Eigenvalue 172 ': '4196.84',\n",
       "  'Eigenvalue 173 ': '4186.88',\n",
       "  'Eigenvalue 174 ': '4144.27',\n",
       "  'Eigenvalue 175 ': '4131.84',\n",
       "  'Eigenvalue 176 ': '4078.58',\n",
       "  'Eigenvalue 177 ': '4058.07',\n",
       "  'Eigenvalue 178 ': '4018.13',\n",
       "  'Eigenvalue 179 ': '4007.81',\n",
       "  'Eigenvalue 180 ': '3970.91',\n",
       "  'Eigenvalue 181 ': '3956.09',\n",
       "  'Eigenvalue 182 ': '3944.37',\n",
       "  'Eigenvalue 183 ': '3935.23',\n",
       "  'Eigenvalue 184 ': '3893.77',\n",
       "  'Eigenvalue 185 ': '3900.02',\n",
       "  'Eigenvalue 186 ': '3841.09',\n",
       "  'Eigenvalue 187 ': '3836',\n",
       "  'Eigenvalue 188 ': '3791.18',\n",
       "  'Eigenvalue 189 ': '3782.87',\n",
       "  'Eigenvalue 190 ': '3758.33',\n",
       "  'Eigenvalue 191 ': '3754.71',\n",
       "  'Eigenvalue 192 ': '3734.07',\n",
       "  'Eigenvalue 193 ': '3703.84',\n",
       "  'Eigenvalue 194 ': '3687.47',\n",
       "  'Eigenvalue 195 ': '3668.14',\n",
       "  'Eigenvalue 196 ': '3649.16',\n",
       "  'Eigenvalue 197 ': '3611.25',\n",
       "  'Eigenvalue 198 ': '3597.7',\n",
       "  'Eigenvalue 199 ': '3560.55',\n",
       "  'Eigenvalue 200 ': '3546.18',\n",
       "  'Eigenvalue 201 ': '3536.97',\n",
       "  'Eigenvalue 202 ': '3503.66',\n",
       "  'Eigenvalue 203 ': '3489.4',\n",
       "  'Eigenvalue 204 ': '3465.21',\n",
       "  'Eigenvalue 205 ': '3462.28',\n",
       "  'Eigenvalue 206 ': '3436.36',\n",
       "  'Eigenvalue 207 ': '3416.01',\n",
       "  'Eigenvalue 208 ': '3366.86',\n",
       "  'Eigenvalue 209 ': '3340.42',\n",
       "  'Eigenvalue 210 ': '3326.56',\n",
       "  'Eigenvalue 211 ': '3314.58',\n",
       "  'Eigenvalue 212 ': '3290.38',\n",
       "  'Eigenvalue 213 ': '3280.17',\n",
       "  'Eigenvalue 214 ': '3248.53',\n",
       "  'Eigenvalue 215 ': '3222.42',\n",
       "  'Eigenvalue 216 ': '3213.96',\n",
       "  'Eigenvalue 217 ': '3163.64',\n",
       "  'Eigenvalue 218 ': '3147.23',\n",
       "  'Eigenvalue 219 ': '3126.51',\n",
       "  'Eigenvalue 220 ': '3121.33',\n",
       "  'Eigenvalue 221 ': '3095.48',\n",
       "  'Eigenvalue 222 ': '3077.91',\n",
       "  'Eigenvalue 223 ': '3064.67',\n",
       "  'Eigenvalue 224 ': '3055.12',\n",
       "  'Eigenvalue 225 ': '3008.25',\n",
       "  'Eigenvalue 226 ': '2986.22',\n",
       "  'Eigenvalue 227 ': '2969.21',\n",
       "  'Eigenvalue 228 ': '2948.9',\n",
       "  'Eigenvalue 229 ': '2945.69',\n",
       "  'Eigenvalue 230 ': '2930.66',\n",
       "  'Eigenvalue 231 ': '2917.14',\n",
       "  'Eigenvalue 232 ': '2890.76',\n",
       "  'Eigenvalue 233 ': '2865.01',\n",
       "  'Eigenvalue 234 ': '2830.2',\n",
       "  'Eigenvalue 235 ': '2819.29',\n",
       "  'Eigenvalue 236 ': '2797.8',\n",
       "  'Eigenvalue 237 ': '2776.08',\n",
       "  'Eigenvalue 238 ': '2768.79',\n",
       "  'Eigenvalue 239 ': '2744.35',\n",
       "  'Eigenvalue 240 ': '2718.74',\n",
       "  'Eigenvalue 241 ': '2706.22',\n",
       "  'Eigenvalue 242 ': '2678.94',\n",
       "  'Eigenvalue 243 ': '2674.41',\n",
       "  'Eigenvalue 244 ': '2634.51',\n",
       "  'Eigenvalue 245 ': '2620.09',\n",
       "  'Eigenvalue 246 ': '2590.19',\n",
       "  'Eigenvalue 247 ': '2558.83',\n",
       "  'Eigenvalue 248 ': '2540.07',\n",
       "  'Eigenvalue 249 ': '2532.71',\n",
       "  'Eigenvalue 250 ': '2526.55',\n",
       "  'Eigenvalue 251 ': '2504.27',\n",
       "  'Eigenvalue 252 ': '2484.25',\n",
       "  'Eigenvalue 253 ': '2440.61',\n",
       "  'Eigenvalue 254 ': '2421.09',\n",
       "  'Eigenvalue 255 ': '2415.47',\n",
       "  'Eigenvalue 256 ': '2385.84',\n",
       "  'Eigenvalue 257 ': '2362.85',\n",
       "  'Eigenvalue 258 ': '2334.39',\n",
       "  'Eigenvalue 259 ': '2313.17',\n",
       "  'Eigenvalue 260 ': '2294.53',\n",
       "  'Eigenvalue 261 ': '2267.91',\n",
       "  'Eigenvalue 262 ': '2255.97',\n",
       "  'Eigenvalue 263 ': '2245.65',\n",
       "  'Eigenvalue 264 ': '2221.24',\n",
       "  'Eigenvalue 265 ': '2210.86',\n",
       "  'Eigenvalue 266 ': '2183.77',\n",
       "  'Eigenvalue 267 ': '2168.96',\n",
       "  'Eigenvalue 268 ': '2160.46',\n",
       "  'Eigenvalue 269 ': '2144.14',\n",
       "  'Eigenvalue 270 ': '2135.46',\n",
       "  'Eigenvalue 271 ': '2090.41',\n",
       "  'Eigenvalue 272 ': '2073.36',\n",
       "  'Eigenvalue 273 ': '2066.12',\n",
       "  'Eigenvalue 274 ': '2061.16',\n",
       "  'Eigenvalue 275 ': '2047.8',\n",
       "  'Eigenvalue 276 ': '2033.47',\n",
       "  'Eigenvalue 277 ': '2014.27',\n",
       "  'Eigenvalue 278 ': '2005.04',\n",
       "  'Eigenvalue 279 ': '1979.38',\n",
       "  'Eigenvalue 280 ': '1960.82',\n",
       "  'Eigenvalue 281 ': '1958.12',\n",
       "  'Eigenvalue 282 ': '1939.05',\n",
       "  'Eigenvalue 283 ': '1903.72',\n",
       "  'Eigenvalue 284 ': '1891.95',\n",
       "  'Eigenvalue 285 ': '1883.65',\n",
       "  'Eigenvalue 286 ': '1871.5',\n",
       "  'Eigenvalue 287 ': '1858.36',\n",
       "  'Eigenvalue 288 ': '1847.73',\n",
       "  'Eigenvalue 289 ': '1827.94',\n",
       "  'Eigenvalue 290 ': '1804.33',\n",
       "  'Eigenvalue 291 ': '1786.46',\n",
       "  'Eigenvalue 292 ': '1763.29',\n",
       "  'Eigenvalue 293 ': '1750.34',\n",
       "  'Eigenvalue 294 ': '1727.96',\n",
       "  'Eigenvalue 295 ': '1709.63',\n",
       "  'Eigenvalue 296 ': '1695.31',\n",
       "  'Eigenvalue 297 ': '1669.41',\n",
       "  'Eigenvalue 298 ': '1649.51',\n",
       "  'Eigenvalue 299 ': '1646.74',\n",
       "  'Eigenvalue 300 ': '1636.56',\n",
       "  'Eigenvalue 301 ': '1614.07',\n",
       "  'Eigenvalue 302 ': '1602.24',\n",
       "  'Eigenvalue 303 ': '1588.29',\n",
       "  'Eigenvalue 304 ': '1573.76',\n",
       "  'Eigenvalue 305 ': '1547.67',\n",
       "  'Eigenvalue 306 ': '1538.51',\n",
       "  'Eigenvalue 307 ': '1529.87',\n",
       "  'Eigenvalue 308 ': '1519.18',\n",
       "  'Eigenvalue 309 ': '1513.55',\n",
       "  'Eigenvalue 310 ': '1502.8',\n",
       "  'Eigenvalue 311 ': '1466.01',\n",
       "  'Eigenvalue 312 ': '1442.26',\n",
       "  'Eigenvalue 313 ': '1409.76',\n",
       "  'Eigenvalue 314 ': '1403.8',\n",
       "  'Eigenvalue 315 ': '1387.32',\n",
       "  'Eigenvalue 316 ': '1377.86',\n",
       "  'Eigenvalue 317 ': '1362.1',\n",
       "  'Eigenvalue 318 ': '1356.01',\n",
       "  'Eigenvalue 319 ': '1316.5',\n",
       "  'Eigenvalue 320 ': '1317.06',\n",
       "  'Eigenvalue 321 ': '1305.4',\n",
       "  'Eigenvalue 322 ': '1290.86',\n",
       "  'Eigenvalue 323 ': '1285.18',\n",
       "  'Eigenvalue 324 ': '1252.26',\n",
       "  'Eigenvalue 325 ': '1225.49',\n",
       "  'Eigenvalue 326 ': '1218.56',\n",
       "  'Eigenvalue 327 ': '1207.74',\n",
       "  'Eigenvalue 328 ': '1175.63',\n",
       "  'Eigenvalue 329 ': '1160.71',\n",
       "  'Eigenvalue 330 ': '1151.44',\n",
       "  'Eigenvalue 331 ': '1131.46',\n",
       "  'Eigenvalue 332 ': '1118.51',\n",
       "  'Eigenvalue 333 ': '1114.6',\n",
       "  'Eigenvalue 334 ': '1114.65',\n",
       "  'Eigenvalue 335 ': '1086.21',\n",
       "  'Eigenvalue 336 ': '1073.19',\n",
       "  'Eigenvalue 337 ': '1057.92',\n",
       "  'Eigenvalue 338 ': '1046.54',\n",
       "  'Eigenvalue 339 ': '1045.08',\n",
       "  'Eigenvalue 340 ': '1030.93',\n",
       "  'Eigenvalue 341 ': '1010.93',\n",
       "  'Eigenvalue 342 ': '1001.11',\n",
       "  'Eigenvalue 343 ': '974.111',\n",
       "  'Eigenvalue 344 ': '966.334',\n",
       "  'Eigenvalue 345 ': '944.297',\n",
       "  'Eigenvalue 346 ': '920.323',\n",
       "  'Eigenvalue 347 ': '916.808',\n",
       "  'Eigenvalue 348 ': '899.574',\n",
       "  'Eigenvalue 349 ': '885.598',\n",
       "  'Eigenvalue 350 ': '881.989',\n",
       "  'Eigenvalue 351 ': '852.216',\n",
       "  'Eigenvalue 352 ': '849.012',\n",
       "  'Eigenvalue 353 ': '843.862',\n",
       "  'Eigenvalue 354 ': '830.416',\n",
       "  'Eigenvalue 355 ': '812.478',\n",
       "  'Eigenvalue 356 ': '798.91',\n",
       "  'Eigenvalue 357 ': '786.868',\n",
       "  'Eigenvalue 358 ': '782.004',\n",
       "  'Eigenvalue 359 ': '775.109',\n",
       "  'Eigenvalue 360 ': '771.923',\n",
       "  'Eigenvalue 361 ': '755.215',\n",
       "  'Eigenvalue 362 ': '740.296',\n",
       "  'Eigenvalue 363 ': '717.565',\n",
       "  'Eigenvalue 364 ': '708.701',\n",
       "  'Eigenvalue 365 ': '702.378',\n",
       "  'Eigenvalue 366 ': '678.64',\n",
       "  'Eigenvalue 367 ': '672.903',\n",
       "  'Eigenvalue 368 ': '666.651',\n",
       "  'Eigenvalue 369 ': '657.162',\n",
       "  'Eigenvalue 370 ': '647.388',\n",
       "  'Eigenvalue 371 ': '639.175',\n",
       "  'Eigenvalue 372 ': '637.172',\n",
       "  'Eigenvalue 373 ': '625.201',\n",
       "  'Eigenvalue 374 ': '618.002',\n",
       "  'Eigenvalue 375 ': '606.475',\n",
       "  'Eigenvalue 376 ': '601.356',\n",
       "  'Eigenvalue 377 ': '579.578',\n",
       "  'Eigenvalue 378 ': '575.446',\n",
       "  'Eigenvalue 379 ': '569.579',\n",
       "  'Eigenvalue 380 ': '554.798',\n",
       "  'Eigenvalue 381 ': '549.982',\n",
       "  'Eigenvalue 382 ': '539.99',\n",
       "  'Eigenvalue 383 ': '534.268',\n",
       "  'Eigenvalue 384 ': '526.864',\n",
       "  'Eigenvalue 385 ': '519.314',\n",
       "  'Eigenvalue 386 ': '512.689',\n",
       "  'Eigenvalue 387 ': '508.418',\n",
       "  'Eigenvalue 388 ': '496.506',\n",
       "  'Eigenvalue 389 ': '490.259',\n",
       "  'Eigenvalue 390 ': '477.208',\n",
       "  'Eigenvalue 391 ': '467.864',\n",
       "  'Eigenvalue 392 ': '466.469',\n",
       "  'Eigenvalue 393 ': '460.657',\n",
       "  'Eigenvalue 394 ': '453.806',\n",
       "  'Eigenvalue 395 ': '449.869',\n",
       "  'Eigenvalue 396 ': '446.368',\n",
       "  'Eigenvalue 397 ': '436.565',\n",
       "  'Eigenvalue 398 ': '429.761',\n",
       "  'Eigenvalue 399 ': '430.861',\n",
       "  'Eigenvalue 400 ': '424.263',\n",
       "  'Eigenvalue 401 ': '409.1',\n",
       "  'Eigenvalue 402 ': '401.984',\n",
       "  'Eigenvalue 403 ': '401.04',\n",
       "  'Eigenvalue 404 ': '395.69',\n",
       "  'Eigenvalue 405 ': '385.785',\n",
       "  'Eigenvalue 406 ': '378.574',\n",
       "  'Eigenvalue 407 ': '373.357',\n",
       "  'Eigenvalue 408 ': '372.053',\n",
       "  'Eigenvalue 409 ': '359.284',\n",
       "  'Eigenvalue 410 ': '358.151',\n",
       "  'Eigenvalue 411 ': '355.065',\n",
       "  'Eigenvalue 412 ': '348.277',\n",
       "  'Eigenvalue 413 ': '343.929',\n",
       "  'Eigenvalue 414 ': '335.773',\n",
       "  'Eigenvalue 415 ': '323.12',\n",
       "  'Eigenvalue 416 ': '318.921',\n",
       "  'Eigenvalue 417 ': '317.405',\n",
       "  'Eigenvalue 418 ': '307.946',\n",
       "  'Eigenvalue 419 ': '302.842',\n",
       "  'Eigenvalue 420 ': '299.938',\n",
       "  'Eigenvalue 421 ': '292.932',\n",
       "  'Eigenvalue 422 ': '290.198',\n",
       "  'Eigenvalue 423 ': '282.998',\n",
       "  'Eigenvalue 424 ': '281.891',\n",
       "  'Eigenvalue 425 ': '275.654',\n",
       "  'Eigenvalue 426 ': '275.341',\n",
       "  'Eigenvalue 427 ': '271.455',\n",
       "  'Eigenvalue 428 ': '267.162',\n",
       "  'Eigenvalue 429 ': '265.513',\n",
       "  'Eigenvalue 430 ': '263.431',\n",
       "  'Eigenvalue 431 ': '256.566',\n",
       "  'Eigenvalue 432 ': '255.794',\n",
       "  'Eigenvalue 433 ': '251.15',\n",
       "  'Eigenvalue 434 ': '249.961',\n",
       "  'Eigenvalue 435 ': '246.889',\n",
       "  'Eigenvalue 436 ': '245.422',\n",
       "  'Eigenvalue 437 ': '238.428',\n",
       "  'Eigenvalue 438 ': '237.631',\n",
       "  'Eigenvalue 439 ': '232.866',\n",
       "  'Eigenvalue 440 ': '225.509',\n",
       "  'Eigenvalue 441 ': '221.648',\n",
       "  'Eigenvalue 442 ': '218.863',\n",
       "  'Eigenvalue 443 ': '214.853',\n",
       "  'Eigenvalue 444 ': '212.246',\n",
       "  'Eigenvalue 445 ': '210.752',\n",
       "  'Eigenvalue 446 ': '206.816',\n",
       "  'Eigenvalue 447 ': '206.428',\n",
       "  'Eigenvalue 448 ': '203.159',\n",
       "  'Eigenvalue 449 ': '197.586',\n",
       "  'Eigenvalue 450 ': '197.129',\n",
       "  'Eigenvalue 451 ': '195.351',\n",
       "  'Eigenvalue 452 ': '188.927',\n",
       "  'Eigenvalue 453 ': '187.864',\n",
       "  'Eigenvalue 454 ': '186.394',\n",
       "  'Eigenvalue 455 ': '185.598',\n",
       "  'Eigenvalue 456 ': '182.311',\n",
       "  'Eigenvalue 457 ': '178.387',\n",
       "  'Eigenvalue 458 ': '175.05',\n",
       "  'Eigenvalue 459 ': '172.328',\n",
       "  'Eigenvalue 460 ': '171.581',\n",
       "  'Eigenvalue 461 ': '169.087',\n",
       "  'Eigenvalue 462 ': '167.926',\n",
       "  'Eigenvalue 463 ': '166.556',\n",
       "  'Eigenvalue 464 ': '164.344',\n",
       "  'Eigenvalue 465 ': '163.068',\n",
       "  'Eigenvalue 466 ': '160.936',\n",
       "  'Eigenvalue 467 ': '158.753',\n",
       "  'Eigenvalue 468 ': '156.54',\n",
       "  'Eigenvalue 469 ': '150.509',\n",
       "  'Eigenvalue 470 ': '149.409',\n",
       "  'Eigenvalue 471 ': '148.524',\n",
       "  'Eigenvalue 472 ': '147.432',\n",
       "  'Eigenvalue 473 ': '144.266',\n",
       "  'Eigenvalue 474 ': '142.842',\n",
       "  'Eigenvalue 475 ': '141.636',\n",
       "  'Eigenvalue 476 ': '140.638',\n",
       "  'Eigenvalue 477 ': '138.74',\n",
       "  'Eigenvalue 478 ': '136.595',\n",
       "  'Eigenvalue 479 ': '133.161',\n",
       "  'Eigenvalue 480 ': '131.922',\n",
       "  'Eigenvalue 481 ': '130.042',\n",
       "  'Eigenvalue 482 ': '129.104',\n",
       "  'Eigenvalue 483 ': '129.258',\n",
       "  'Eigenvalue 484 ': '126.114',\n",
       "  'Eigenvalue 485 ': '125.843',\n",
       "  'Eigenvalue 486 ': '124.328',\n",
       "  'Eigenvalue 487 ': '122.322',\n",
       "  'Eigenvalue 488 ': '120.382',\n",
       "  'Eigenvalue 489 ': '118.307',\n",
       "  'Eigenvalue 490 ': '118.001',\n",
       "  'Eigenvalue 491 ': '116.913',\n",
       "  'Eigenvalue 492 ': '116.678',\n",
       "  'Eigenvalue 493 ': '115.325',\n",
       "  'Eigenvalue 494 ': '113.942',\n",
       "  'Eigenvalue 495 ': '111.477',\n",
       "  'Eigenvalue 496 ': '109.807',\n",
       "  'Eigenvalue 497 ': '107.873',\n",
       "  'Eigenvalue 498 ': '106.913',\n",
       "  'Eigenvalue 499 ': '106.312',\n",
       "  'Eigenvalue 500 ': '104.807',\n",
       "  'Eigenvalue 501 ': '102.434',\n",
       "  'Eigenvalue 502 ': '101.746',\n",
       "  'Eigenvalue 503 ': '100.36',\n",
       "  'Eigenvalue 504 ': '98.6307',\n",
       "  'Eigenvalue 505 ': '97.3253',\n",
       "  'Eigenvalue 506 ': '96.6925',\n",
       "  'Eigenvalue 507 ': '94.745',\n",
       "  'Eigenvalue 508 ': '93.8321',\n",
       "  'Eigenvalue 509 ': '93.1229',\n",
       "  'Eigenvalue 510 ': '91.3383',\n",
       "  'Eigenvalue 511 ': '90.5712',\n",
       "  'Eigenvalue 512 ': '89.2028',\n",
       "  'Eigenvalue 513 ': '88.4691',\n",
       "  'Eigenvalue 514 ': '87.7664',\n",
       "  'Eigenvalue 515 ': '86.6987',\n",
       "  'Eigenvalue 516 ': '85.8265',\n",
       "  'Eigenvalue 517 ': '85.2005',\n",
       "  'Eigenvalue 518 ': '83.2955',\n",
       "  'Eigenvalue 519 ': '81.9443',\n",
       "  'Eigenvalue 520 ': '81.3912',\n",
       "  'Eigenvalue 521 ': '80.1556',\n",
       "  'Eigenvalue 522 ': '79.2504',\n",
       "  'Eigenvalue 523 ': '78.6136',\n",
       "  'Eigenvalue 524 ': '77.1953',\n",
       "  'Eigenvalue 525 ': '76.0766',\n",
       "  'Eigenvalue 526 ': '74.9871',\n",
       "  'Eigenvalue 527 ': '73.6683',\n",
       "  'Eigenvalue 528 ': '73.2714',\n",
       "  'Eigenvalue 529 ': '73.2844',\n",
       "  'Eigenvalue 530 ': '71.0835',\n",
       "  'Eigenvalue 531 ': '70.8093',\n",
       "  'Eigenvalue 532 ': '69.8238',\n",
       "  'Eigenvalue 533 ': '68.6947',\n",
       "  'Eigenvalue 534 ': '68.4526',\n",
       "  'Eigenvalue 535 ': '67.6017',\n",
       "  'Eigenvalue 536 ': '66.6136',\n",
       "  'Eigenvalue 537 ': '65.8037',\n",
       "  'Eigenvalue 538 ': '65.1415',\n",
       "  'Eigenvalue 539 ': '63.8026',\n",
       "  'Eigenvalue 540 ': '63.0932',\n",
       "  'Eigenvalue 541 ': '62.0984',\n",
       "  'Eigenvalue 542 ': '61.4901',\n",
       "  'Eigenvalue 543 ': '61.3296',\n",
       "  'Eigenvalue 544 ': '60.4759',\n",
       "  'Eigenvalue 545 ': '58.1853',\n",
       "  'Eigenvalue 546 ': '56.7872',\n",
       "  'Eigenvalue 547 ': '56.2562',\n",
       "  'Eigenvalue 548 ': '55.4251',\n",
       "  'Eigenvalue 549 ': '54.9441',\n",
       "  'Eigenvalue 550 ': '54.4282',\n",
       "  'Eigenvalue 551 ': '52.8195',\n",
       "  'Eigenvalue 552 ': '52.4691',\n",
       "  'Eigenvalue 553 ': '52.1982',\n",
       "  'Eigenvalue 554 ': '51.1061',\n",
       "  'Eigenvalue 555 ': '48.9445',\n",
       "  'Eigenvalue 556 ': '47.921',\n",
       "  'Eigenvalue 557 ': '47.5821',\n",
       "  'Eigenvalue 558 ': '47.1672',\n",
       "  'Eigenvalue 559 ': '46.462',\n",
       "  'Eigenvalue 560 ': '45.7067',\n",
       "  'Eigenvalue 561 ': '44.7092',\n",
       "  'Eigenvalue 562 ': '44.2697',\n",
       "  'Eigenvalue 563 ': '43.2859',\n",
       "  'Eigenvalue 564 ': '42.2031',\n",
       "  'Eigenvalue 565 ': '41.4928',\n",
       "  'Eigenvalue 566 ': '41.214',\n",
       "  'Eigenvalue 567 ': '39.6807',\n",
       "  'Eigenvalue 568 ': '39.1568',\n",
       "  'Eigenvalue 569 ': '38.4732',\n",
       "  'Eigenvalue 570 ': '38.3226',\n",
       "  'Eigenvalue 571 ': '37.692',\n",
       "  'Eigenvalue 572 ': '35.5536',\n",
       "  'Eigenvalue 573 ': '35.0169',\n",
       "  'Eigenvalue 574 ': '34.8238',\n",
       "  'Eigenvalue 575 ': '34.2195',\n",
       "  'Eigenvalue 576 ': '33.1356',\n",
       "  'Eigenvalue 577 ': '32.84',\n",
       "  'Eigenvalue 578 ': '31.4698',\n",
       "  'Eigenvalue 579 ': '31.1335',\n",
       "  'Eigenvalue 580 ': '30.4505',\n",
       "  'Eigenvalue 581 ': '29.6806',\n",
       "  'Eigenvalue 582 ': '29.0097',\n",
       "  'Eigenvalue 583 ': '28.6787',\n",
       "  'Eigenvalue 584 ': '28.0952',\n",
       "  'Eigenvalue 585 ': '27.6407',\n",
       "  'Eigenvalue 586 ': '27.0634',\n",
       "  'Eigenvalue 587 ': '26.2048',\n",
       "  'Eigenvalue 588 ': '25.3044',\n",
       "  'Eigenvalue 589 ': '24.6915',\n",
       "  'Eigenvalue 590 ': '23.9351',\n",
       "  'Eigenvalue 591 ': '22.7635',\n",
       "  'Eigenvalue 592 ': '21.4902',\n",
       "  'Eigenvalue 593 ': '20.9578',\n",
       "  'Eigenvalue 594 ': '20.1683',\n",
       "  'Eigenvalue 595 ': '19.4379',\n",
       "  'Eigenvalue 596 ': '18.847',\n",
       "  'Eigenvalue 597 ': '18.2086',\n",
       "  'Eigenvalue 598 ': '17.6027',\n",
       "  'Eigenvalue 599 ': '16.8847',\n",
       "  'Eigenvalue 600 ': '16.5432',\n",
       "  'Eigenvalue 601 ': '16.1264',\n",
       "  'Eigenvalue 602 ': '15.4017',\n",
       "  'Eigenvalue 603 ': '14.8463',\n",
       "  'Eigenvalue 604 ': '14.2057',\n",
       "  'Eigenvalue 605 ': '13.8181',\n",
       "  'Eigenvalue 606 ': '12.9655',\n",
       "  'Eigenvalue 607 ': '12.484',\n",
       "  'Eigenvalue 608 ': '11.7885',\n",
       "  'Eigenvalue 609 ': '10.7984',\n",
       "  'Eigenvalue 610 ': '10.2191',\n",
       "  'Eigenvalue 611 ': '9.92938',\n",
       "  'Eigenvalue 612 ': '9.5153',\n",
       "  'Eigenvalue 613 ': '8.71685',\n",
       "  'Eigenvalue 614 ': '8.47762',\n",
       "  'Eigenvalue 615 ': '8.10129',\n",
       "  'Eigenvalue 616 ': '7.61705',\n",
       "  'Eigenvalue 617 ': '7.23034',\n",
       "  'Eigenvalue 618 ': '7.03797',\n",
       "  'Eigenvalue 619 ': '6.30237',\n",
       "  'Eigenvalue 620 ': '5.61062',\n",
       "  'Eigenvalue 621 ': '4.954',\n",
       "  'Eigenvalue 622 ': '4.20725',\n",
       "  'Eigenvalue 623 ': '3.40268',\n",
       "  'Eigenvalue 624 ': '2.80602'}}"
      ]
     },
     "execution_count": 76,
     "metadata": {},
     "output_type": "execute_result"
    }
   ],
   "source": [
    "res_sing"
   ]
  },
  {
   "cell_type": "code",
   "execution_count": 104,
   "metadata": {},
   "outputs": [],
   "source": [
    "from math import sqrt\n",
    "def singular_values(res_dict):\n",
    "    svalues = filter(lambda x: 'Eigenvalue' in x, res_dict['output'])\n",
    "    return {int(k.split(' ')[1]): sqrt(float(v)) for k, v in res_dict['output'].items() if 'Eigenvalue' in k}\n",
    "\n",
    "sv = singular_values(res_sing)"
   ]
  },
  {
   "cell_type": "code",
   "execution_count": 105,
   "metadata": {},
   "outputs": [
    {
     "data": {
      "text/plain": [
       "Text(0,0.5,'Numero de Condicion')"
      ]
     },
     "execution_count": 105,
     "metadata": {},
     "output_type": "execute_result"
    },
    {
     "data": {
      "image/png": "[encoded data removed]",
      "text/plain": [
       "<Figure size 432x288 with 1 Axes>"
      ]
     },
     "metadata": {},
     "output_type": "display_data"
    }
   ],
   "source": [
    "s = sorted(sv.values(), reverse=True)\n",
    "condition_number = [(s[0] / s2) for s2 in s[1:]]\n",
    "\n",
    "plt.plot(condition_number)\n",
    "plt.xlabel('Componentes retenidas')\n",
    "plt.ylabel('Numero de Condicion')"
   ]
  },
  {
   "cell_type": "code",
   "execution_count": 106,
   "metadata": {},
   "outputs": [
    {
     "data": {
      "text/plain": [
       "[<matplotlib.lines.Line2D at 0xb1b4230b8>]"
      ]
     },
     "execution_count": 106,
     "metadata": {},
     "output_type": "execute_result"
    },
    {
     "data": {
      "image/png": "[encoded data removed]",
      "text/plain": [
       "<Figure size 432x288 with 1 Axes>"
      ]
     },
     "metadata": {},
     "output_type": "display_data"
    }
   ],
   "source": [
    "l = np.array([1, condition_number[0]])\n",
    "h = np.array([len(condition_number), condition_number[-1]])\n",
    "\n",
    "def distance_to_opt(l, h, p):\n",
    "    d = np.linalg.norm(np.cross(l-h, l-p))/np.linalg.norm(l-h)\n",
    "    return d\n",
    "\n",
    "dist = [distance_to_opt(l, h, np.array(p)) for p in enumerate(condition_number)]\n",
    "plt.plot(dist)"
   ]
  },
  {
   "cell_type": "code",
   "execution_count": 107,
   "metadata": {},
   "outputs": [
    {
     "data": {
      "image/png": "[encoded data removed]",
      "text/plain": [
       "<Figure size 432x288 with 1 Axes>"
      ]
     },
     "metadata": {},
     "output_type": "display_data"
    }
   ],
   "source": [
    "import seaborn as sns\n",
    "sns.set_style('whitegrid')\n",
    "s = sorted(sv.values(), reverse=True)\n",
    "condition_number = [(s[0] / s2) for s2 in s[1:]]\n",
    "\n",
    "l = np.array([1, condition_number[0]])\n",
    "h = np.array([len(condition_number), condition_number[-1]])\n",
    "\n",
    "plt.plot(condition_number, label='Sucesion Obtenida')\n",
    "plt.plot([l[0], h[0]], [l[1], h[1]], linestyle='--' , label='Sucesion Ideal')\n",
    "\n",
    "plt.xlabel('k')\n",
    "plt.ylabel(r'Numero de Condicion de $S_k$')\n",
    "plt.legend()\n",
    "l = np.array([1, condition_number[0]])\n",
    "h = np.array([len(condition_number), condition_number[-1]])\n",
    "\n"
   ]
  },
  {
   "cell_type": "code",
   "execution_count": 108,
   "metadata": {},
   "outputs": [
    {
     "data": {
      "text/plain": [
       "[<matplotlib.lines.Line2D at 0xb1b576dd8>]"
      ]
     },
     "execution_count": 108,
     "metadata": {},
     "output_type": "execute_result"
    },
    {
     "data": {
      "image/png": "[encoded data removed]",
      "text/plain": [
       "<Figure size 432x288 with 1 Axes>"
      ]
     },
     "metadata": {},
     "output_type": "display_data"
    }
   ],
   "source": [
    "def distance_to_opt(l, h, p):\n",
    "    d = np.linalg.norm(np.cross(l-h, l-p))/np.linalg.norm(l-h)\n",
    "    return d\n",
    "\n",
    "dist = [distance_to_opt(l, h, np.array(p)) for p in enumerate(condition_number)]\n",
    "\n",
    "plt.xlabel('k')\n",
    "plt.ylabel(r'$\\delta$')\n",
    "plt.plot(dist)"
   ]
  },
  {
   "cell_type": "code",
   "execution_count": null,
   "metadata": {},
   "outputs": [],
   "source": []
  },
  {
   "cell_type": "code",
   "execution_count": 80,
   "metadata": {},
   "outputs": [
    {
     "data": {
      "text/plain": [
       "543"
      ]
     },
     "execution_count": 80,
     "metadata": {},
     "output_type": "execute_result"
    }
   ],
   "source": [
    "np.argmax(dist)"
   ]
  },
  {
   "cell_type": "code",
   "execution_count": 81,
   "metadata": {},
   "outputs": [
    {
     "name": "stderr",
     "output_type": "stream",
     "text": [
      "/Users/Angseton/anaconda3/lib/python3.6/site-packages/ipykernel_launcher.py:22: DeprecationWarning: `imread` is deprecated!\n",
      "`imread` is deprecated in SciPy 1.0.0, and will be removed in 1.2.0.\n",
      "Use ``imageio.imread`` instead.\n"
     ]
    }
   ],
   "source": [
    "i_file = '../recursosTP3/data/tomo.png'\n",
    "o_dir = '../recursosTP3/results/condition_number'\n",
    "o_name = 'tomoreconstruction_w_opt'\n",
    "ray_generator='random'\n",
    "ray_generator_params = {\n",
    "    'sample_size' : 10000,\n",
    "}\n",
    "run_params = {\n",
    "    'max_comp': 557,\n",
    "}\n",
    "res_w_filter = reconstruction(i_file, \n",
    "                              ray_generator_params, \n",
    "                              d_h=25, d_w=25,\n",
    "                              ray_generator='random', \n",
    "                              outdir=o_dir,\n",
    "                              outname=o_name,\n",
    "                              run_params=run_params)"
   ]
  },
  {
   "cell_type": "code",
   "execution_count": 82,
   "metadata": {},
   "outputs": [
    {
     "name": "stderr",
     "output_type": "stream",
     "text": [
      "/Users/Angseton/anaconda3/lib/python3.6/site-packages/ipykernel_launcher.py:1: DeprecationWarning: `imread` is deprecated!\n",
      "`imread` is deprecated in SciPy 1.0.0, and will be removed in 1.2.0.\n",
      "Use ``imageio.imread`` instead.\n",
      "  \"\"\"Entry point for launching an IPython kernel.\n",
      "/Users/Angseton/anaconda3/lib/python3.6/site-packages/ipykernel_launcher.py:2: DeprecationWarning: `imresize` is deprecated!\n",
      "`imresize` is deprecated in SciPy 1.0.0, and will be removed in 1.2.0.\n",
      "Use ``skimage.transform.resize`` instead.\n",
      "  \n",
      "/Users/Angseton/anaconda3/lib/python3.6/site-packages/ipykernel_launcher.py:7: DeprecationWarning: `imread` is deprecated!\n",
      "`imread` is deprecated in SciPy 1.0.0, and will be removed in 1.2.0.\n",
      "Use ``imageio.imread`` instead.\n",
      "  import sys\n",
      "/Users/Angseton/anaconda3/lib/python3.6/site-packages/ipykernel_launcher.py:8: DeprecationWarning: `imread` is deprecated!\n",
      "`imread` is deprecated in SciPy 1.0.0, and will be removed in 1.2.0.\n",
      "Use ``imageio.imread`` instead.\n",
      "  \n"
     ]
    },
    {
     "data": {
      "text/plain": [
       "<matplotlib.image.AxesImage at 0xb1a11add8>"
      ]
     },
     "execution_count": 82,
     "metadata": {},
     "output_type": "execute_result"
    },
    {
     "data": {
      "image/png": "[encoded data removed]",
      "text/plain": [
       "<Figure size 1080x1080 with 3 Axes>"
      ]
     },
     "metadata": {},
     "output_type": "display_data"
    }
   ],
   "source": [
    "original_im = imread(res_sing['input_file'], 'L')\n",
    "original_resized = imresize(original_im, (25, 25))\n",
    "#original_resized = imresize(original_im, (25, 25))\n",
    "\n",
    "f, axarr = plt.subplots(1, 3, figsize=(15,15))\n",
    "axarr[0].imshow(original_resized, cmap='gray')\n",
    "axarr[1].imshow(imread(res_sing['output_file']), cmap='gray')\n",
    "axarr[2].imshow(imread(res_w_filter['output_file']), cmap='gray')"
   ]
  },
  {
   "cell_type": "code",
   "execution_count": 96,
   "metadata": {
    "scrolled": true
   },
   "outputs": [
    {
     "name": "stdout",
     "output_type": "stream",
     "text": [
      "13.981672095726514\n",
      "13.986960372342221\n",
      "103.9312\n",
      "103.6784\n"
     ]
    },
    {
     "name": "stderr",
     "output_type": "stream",
     "text": [
      "/Users/Angseton/anaconda3/lib/python3.6/site-packages/ipykernel_launcher.py:21: DeprecationWarning: `imread` is deprecated!\n",
      "`imread` is deprecated in SciPy 1.0.0, and will be removed in 1.2.0.\n",
      "Use ``imageio.imread`` instead.\n",
      "/Users/Angseton/anaconda3/lib/python3.6/site-packages/ipykernel_launcher.py:22: DeprecationWarning: `imread` is deprecated!\n",
      "`imread` is deprecated in SciPy 1.0.0, and will be removed in 1.2.0.\n",
      "Use ``imageio.imread`` instead.\n",
      "/Users/Angseton/anaconda3/lib/python3.6/site-packages/ipykernel_launcher.py:24: DeprecationWarning: `imread` is deprecated!\n",
      "`imread` is deprecated in SciPy 1.0.0, and will be removed in 1.2.0.\n",
      "Use ``imageio.imread`` instead.\n",
      "/Users/Angseton/anaconda3/lib/python3.6/site-packages/ipykernel_launcher.py:25: DeprecationWarning: `imread` is deprecated!\n",
      "`imread` is deprecated in SciPy 1.0.0, and will be removed in 1.2.0.\n",
      "Use ``imageio.imread`` instead.\n"
     ]
    },
    {
     "data": {
      "text/plain": [
       "Text(0,0.5,'MSE')"
      ]
     },
     "execution_count": 96,
     "metadata": {},
     "output_type": "execute_result"
    },
    {
     "data": {
      "image/png": "[encoded data removed]",
      "text/plain": [
       "<Figure size 864x360 with 2 Axes>"
      ]
     },
     "metadata": {},
     "output_type": "display_data"
    }
   ],
   "source": [
    "import math\n",
    "\n",
    "#def psnr(u_0, u_1):\n",
    "#    rows, cols = u_0.shape\n",
    "#    N = rows * cols\n",
    "#    ecm = (1 / N)  * np.sum(np.power(u_1 - u_0, 2))\n",
    "#    return 10 * np.log(u_0.max() ** 2 / ecm)\n",
    "\n",
    "def psnr(img1, img2):\n",
    "    mse = np.mean( (img1 - img2) ** 2 )\n",
    "    if mse == 0:\n",
    "        return 100\n",
    "    PIXEL_MAX = 255.0\n",
    "    print(10 * math.log10(PIXEL_MAX / math.sqrt(mse)))\n",
    "    return 20 * math.log10(PIXEL_MAX / math.sqrt(mse))\n",
    "\n",
    "def mse(img1, img2):\n",
    "    print(np.mean( (img1 - img2) ** 2 ))\n",
    "    return np.mean( (img1 - img2) ** 2 )\n",
    "\n",
    "im_reconstruction = imread(res_sing['output_file'])\n",
    "im_reconstruction_w_filter = imread(res_w_filter['output_file'])\n",
    "\n",
    "im_reconstruction = imread(res_sing['output_file'])\n",
    "im_reconstruction_w_filter = imread(res_w_filter['output_file'])\n",
    "psnr_reconstruction = psnr(original_resized, im_reconstruction)\n",
    "psnr_reconstruction_w_filter = psnr(original_resized, im_reconstruction_w_filter)\n",
    "\n",
    "mse_reconstruction = mse(original_resized, im_reconstruction)\n",
    "mse_reconstruction_w_filter = mse(original_resized, im_reconstruction_w_filter)\n",
    "\n",
    "\n",
    "f, axarr = plt.subplots(1, 2, figsize=(12, 5) )\n",
    "axarr[0].bar(['All \\n components', 'Filter \\n Components'], \n",
    "                [psnr_reconstruction, psnr_reconstruction_w_filter])\n",
    "axarr[0].set_ylabel('PSNR')\n",
    "axarr[1].bar(['All \\n components', 'Filter \\n Components'], \n",
    "                [mse_reconstruction, mse_reconstruction_w_filter])\n",
    "axarr[1].set_ylabel('MSE')"
   ]
  },
  {
   "cell_type": "markdown",
   "metadata": {},
   "source": [
    "## Other Images"
   ]
  },
  {
   "cell_type": "code",
   "execution_count": 84,
   "metadata": {},
   "outputs": [
    {
     "name": "stderr",
     "output_type": "stream",
     "text": [
      "/Users/Angseton/anaconda3/lib/python3.6/site-packages/ipykernel_launcher.py:1: DeprecationWarning: `imread` is deprecated!\n",
      "`imread` is deprecated in SciPy 1.0.0, and will be removed in 1.2.0.\n",
      "Use ``imageio.imread`` instead.\n",
      "  \"\"\"Entry point for launching an IPython kernel.\n"
     ]
    },
    {
     "data": {
      "text/plain": [
       "<matplotlib.image.AxesImage at 0xb186d2dd8>"
      ]
     },
     "execution_count": 84,
     "metadata": {},
     "output_type": "execute_result"
    },
    {
     "data": {
      "image/png": "[encoded data removed]",
      "text/plain": [
       "<Figure size 432x288 with 1 Axes>"
      ]
     },
     "metadata": {},
     "output_type": "display_data"
    }
   ],
   "source": [
    "phantom = imread('../recursosTP3/data/phantom.png')\n",
    "plt.imshow(phantom, cmap='gray')"
   ]
  },
  {
   "cell_type": "code",
   "execution_count": 86,
   "metadata": {},
   "outputs": [
    {
     "name": "stderr",
     "output_type": "stream",
     "text": [
      "/Users/Angseton/anaconda3/lib/python3.6/site-packages/ipykernel_launcher.py:22: DeprecationWarning: `imread` is deprecated!\n",
      "`imread` is deprecated in SciPy 1.0.0, and will be removed in 1.2.0.\n",
      "Use ``imageio.imread`` instead.\n"
     ]
    }
   ],
   "source": [
    "i_file = '../recursosTP3/data/phantom.png'\n",
    "o_dir = '../recursosTP3/results/phantom_random/'\n",
    "o_name = 'phantom_reconstruction'\n",
    "ray_generator='random'\n",
    "ray_generator_params = {\n",
    "    'sample_size' : 10000,\n",
    "}\n",
    "res_phantom = reconstruction(i_file, ray_generator_params, \n",
    "                             d_h=25, d_w=25,\n",
    "                             ray_generator='random', \n",
    "                             outdir=o_dir, outname=o_name)"
   ]
  },
  {
   "cell_type": "code",
   "execution_count": 87,
   "metadata": {},
   "outputs": [
    {
     "name": "stderr",
     "output_type": "stream",
     "text": [
      "/Users/Angseton/anaconda3/lib/python3.6/site-packages/ipykernel_launcher.py:1: DeprecationWarning: `imread` is deprecated!\n",
      "`imread` is deprecated in SciPy 1.0.0, and will be removed in 1.2.0.\n",
      "Use ``imageio.imread`` instead.\n",
      "  \"\"\"Entry point for launching an IPython kernel.\n",
      "/Users/Angseton/anaconda3/lib/python3.6/site-packages/ipykernel_launcher.py:2: DeprecationWarning: `imresize` is deprecated!\n",
      "`imresize` is deprecated in SciPy 1.0.0, and will be removed in 1.2.0.\n",
      "Use ``skimage.transform.resize`` instead.\n",
      "  \n",
      "/Users/Angseton/anaconda3/lib/python3.6/site-packages/ipykernel_launcher.py:6: DeprecationWarning: `imread` is deprecated!\n",
      "`imread` is deprecated in SciPy 1.0.0, and will be removed in 1.2.0.\n",
      "Use ``imageio.imread`` instead.\n",
      "  \n"
     ]
    },
    {
     "data": {
      "text/plain": [
       "<matplotlib.image.AxesImage at 0xb0bc21a20>"
      ]
     },
     "execution_count": 87,
     "metadata": {},
     "output_type": "execute_result"
    },
    {
     "data": {
      "image/png": "[encoded data removed]",
      "text/plain": [
       "<Figure size 1080x1080 with 2 Axes>"
      ]
     },
     "metadata": {},
     "output_type": "display_data"
    }
   ],
   "source": [
    "original_im = imread(res_phantom['input_file'], 'L')\n",
    "original_resized = imresize(original_im, (25, 25))\n",
    "\n",
    "f, axarr = plt.subplots(1, 2, figsize=(15,15))\n",
    "axarr[0].imshow(original_resized, cmap='gray')\n",
    "axarr[1].imshow(imread(res_phantom['output_file']), cmap='gray')"
   ]
  },
  {
   "cell_type": "code",
   "execution_count": 97,
   "metadata": {},
   "outputs": [
    {
     "name": "stderr",
     "output_type": "stream",
     "text": [
      "/Users/Angseton/anaconda3/lib/python3.6/site-packages/ipykernel_launcher.py:1: DeprecationWarning: `imread` is deprecated!\n",
      "`imread` is deprecated in SciPy 1.0.0, and will be removed in 1.2.0.\n",
      "Use ``imageio.imread`` instead.\n",
      "  \"\"\"Entry point for launching an IPython kernel.\n"
     ]
    },
    {
     "data": {
      "text/plain": [
       "<matplotlib.image.AxesImage at 0x107d7b978>"
      ]
     },
     "execution_count": 97,
     "metadata": {},
     "output_type": "execute_result"
    },
    {
     "data": {
      "image/png": "[encoded data removed]",
      "text/plain": [
       "<Figure size 432x288 with 1 Axes>"
      ]
     },
     "metadata": {},
     "output_type": "display_data"
    }
   ],
   "source": [
    "tomo2 = imread('../recursosTP3/data/tomo3.png')\n",
    "plt.imshow(tomo2, cmap='gray')"
   ]
  },
  {
   "cell_type": "code",
   "execution_count": 98,
   "metadata": {},
   "outputs": [
    {
     "data": {
      "text/plain": [
       "array([18.83333333, 25.08333333,  0.16666667])"
      ]
     },
     "execution_count": 98,
     "metadata": {},
     "output_type": "execute_result"
    }
   ],
   "source": [
    "np.array(tomo2.shape) / 24"
   ]
  },
  {
   "cell_type": "code",
   "execution_count": 99,
   "metadata": {},
   "outputs": [
    {
     "name": "stderr",
     "output_type": "stream",
     "text": [
      "/Users/Angseton/anaconda3/lib/python3.6/site-packages/ipykernel_launcher.py:22: DeprecationWarning: `imread` is deprecated!\n",
      "`imread` is deprecated in SciPy 1.0.0, and will be removed in 1.2.0.\n",
      "Use ``imageio.imread`` instead.\n"
     ]
    }
   ],
   "source": [
    "i_file = '../recursosTP3/data/tomo2.png'\n",
    "o_dir = '../recursosTP3/results/tomo2_horizontal/'\n",
    "o_name = 'phantom_reconstruction'\n",
    "ray_generator='random'\n",
    "ray_generator_params = {\n",
    "    'sample_size' : 10000,\n",
    "}\n",
    "res_tomo2 = reconstruction(i_file, ray_generator_params, \n",
    "                             d_h=21, d_w=28,\n",
    "                             ray_generator='random', \n",
    "                             outdir=o_dir, outname=o_name)"
   ]
  },
  {
   "cell_type": "code",
   "execution_count": 100,
   "metadata": {},
   "outputs": [
    {
     "name": "stderr",
     "output_type": "stream",
     "text": [
      "/Users/Angseton/anaconda3/lib/python3.6/site-packages/ipykernel_launcher.py:1: DeprecationWarning: `imread` is deprecated!\n",
      "`imread` is deprecated in SciPy 1.0.0, and will be removed in 1.2.0.\n",
      "Use ``imageio.imread`` instead.\n",
      "  \"\"\"Entry point for launching an IPython kernel.\n",
      "/Users/Angseton/anaconda3/lib/python3.6/site-packages/ipykernel_launcher.py:2: DeprecationWarning: `imresize` is deprecated!\n",
      "`imresize` is deprecated in SciPy 1.0.0, and will be removed in 1.2.0.\n",
      "Use ``skimage.transform.resize`` instead.\n",
      "  \n",
      "/Users/Angseton/anaconda3/lib/python3.6/site-packages/ipykernel_launcher.py:6: DeprecationWarning: `imread` is deprecated!\n",
      "`imread` is deprecated in SciPy 1.0.0, and will be removed in 1.2.0.\n",
      "Use ``imageio.imread`` instead.\n",
      "  \n"
     ]
    },
    {
     "data": {
      "text/plain": [
       "<matplotlib.image.AxesImage at 0xb19ae8f60>"
      ]
     },
     "execution_count": 100,
     "metadata": {},
     "output_type": "execute_result"
    },
    {
     "data": {
      "image/png": "[encoded data removed]",
      "text/plain": [
       "<Figure size 1080x1080 with 2 Axes>"
      ]
     },
     "metadata": {},
     "output_type": "display_data"
    }
   ],
   "source": [
    "original_im = imread(res_tomo2['input_file'], 'L')\n",
    "original_resized = imresize(original_im, (25, 25))\n",
    "\n",
    "f, axarr = plt.subplots(1, 2, figsize=(15,15))\n",
    "axarr[0].imshow(original_resized, cmap='gray')\n",
    "axarr[1].imshow(imread(res_tomo2['output_file']), cmap='gray')"
   ]
  },
  {
   "cell_type": "code",
   "execution_count": null,
   "metadata": {},
   "outputs": [],
   "source": []
  }
 ],
 "metadata": {
  "kernelspec": {
   "display_name": "Python 3",
   "language": "python",
   "name": "python3"
  },
  "language_info": {
   "codemirror_mode": {
    "name": "ipython",
    "version": 3
   },
   "file_extension": ".py",
   "mimetype": "text/x-python",
   "name": "python",
   "nbconvert_exporter": "python",
   "pygments_lexer": "ipython3",
   "version": "3.6.5"
  }
 },
 "nbformat": 4,
 "nbformat_minor": 2
}
